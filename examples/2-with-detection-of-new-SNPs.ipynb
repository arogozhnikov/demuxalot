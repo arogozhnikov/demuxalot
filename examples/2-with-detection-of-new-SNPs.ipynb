{
 "cells": [
  {
   "cell_type": "markdown",
   "source": [
    "## Demuxalot + detection of new SNPs\n",
    "\n",
    "an example of demultiplexing using a single bamfile\n",
    "\n",
    "(demuxalot can deal with multiple bamfiles simulteneously - it is far more efficient than merging bamfiles,\n",
    "but not shown in this tutorial)\n",
    "\n",
    "We only need some amount of information about each genotype.\n",
    "New SNPs found without any reference (like 1000 Genomes or so) and tailored specifically for your case."
   ],
   "metadata": {
    "collapsed": false,
    "pycharm": {
     "name": "#%% md\n"
    }
   }
  },
  {
   "cell_type": "code",
   "execution_count": 1,
   "outputs": [],
   "source": [
    "import os\n",
    "from pathlib import Path\n",
    "import pandas as pd\n",
    "import pysam\n",
    "\n",
    "from demuxalot.utils import download_file\n",
    "from demuxalot import BarcodeHandler, ProbabilisticGenotypes, Demultiplexer, count_snps, detect_snps_positions"
   ],
   "metadata": {
    "collapsed": false,
    "pycharm": {
     "name": "#%%\n"
    }
   }
  },
  {
   "cell_type": "code",
   "execution_count": 2,
   "outputs": [],
   "source": [
    "local_path = Path.home().joinpath('demuxalot_examples/new_snps_simplified')\n",
    "local_path.mkdir(exist_ok=True, parents=True)\n",
    "os.chdir(local_path)"
   ],
   "metadata": {
    "collapsed": false,
    "pycharm": {
     "name": "#%%\n"
    }
   }
  },
  {
   "cell_type": "code",
   "execution_count": 3,
   "outputs": [
    {
     "name": "stdout",
     "output_type": "stream",
     "text": [
      "downloaded to C.merged.bam\n",
      "file 32_donors.vcf already exists locally\n",
      "file barcodes/C.tsv.gz already exists locally\n"
     ]
    }
   ],
   "source": [
    "bamfile_location = download_file(\"https://sra-pub-src-1.s3.amazonaws.com/SRR5398237/C.merged.bam.1\", \"C.merged.bam\")\n",
    "\n",
    "vcf_filename = download_file(\n",
    "    \"https://github.com/yelabucsf/demuxlet_paper_code/raw/master/fig2/b1.b2.b3.merged_32.eagle.hrc.imputed.autosomes.dose.mac1.exon.recode.vcf.gz\",\n",
    "    \"32_donors.vcf\",\n",
    ")\n",
    "\n",
    "barcode_filename = download_file('https://www.ncbi.nlm.nih.gov/geo/download/?acc=GSM2560247&format=file&file=GSM2560247%5Fbarcodes%2Etsv%2Egz', 'barcodes/C.tsv.gz')"
   ],
   "metadata": {
    "collapsed": false,
    "pycharm": {
     "name": "#%%\n"
    }
   }
  },
  {
   "cell_type": "code",
   "execution_count": 4,
   "outputs": [
    {
     "name": "stderr",
     "output_type": "stream",
     "text": [
      "[E::idx_find_and_load] Could not retrieve index file for '32_donors.vcf'\n"
     ]
    },
    {
     "name": "stdout",
     "output_type": "stream",
     "text": [
      "Parsed 189321 SNPs, got 378411 novel variants\n"
     ]
    }
   ],
   "source": [
    "handler = BarcodeHandler.from_file(barcode_filename)\n",
    "\n",
    "# well, that's the names that were used in the original data.\n",
    "# Recommendation: use better names when you do the same,\n",
    "# like Donor6, Donor11, ...\n",
    "genotype_names = [\n",
    "    '6', '11', '12', '13', '15', '16', '18', '21',\n",
    "    '1015', '1016', '1026', '1043', '1039', '1112', '1012',\n",
    "    '1249', '1244', '1066', '1488', '1511', '1311', '1286',\n",
    "    '1256', '1493', '1442', '1453', '1598', '1085', '1079',\n",
    "    '1154', '107', '101'\n",
    "]\n",
    "genotype_names.sort()\n",
    "genotypes = ProbabilisticGenotypes(genotype_names=genotype_names)\n",
    "# prior_strength reflects the confidence in assigned genotypes.\n",
    "# Should be related to scrnaseq read. Confidence of assignment ~100 reads from rnaseq\n",
    "genotypes.add_vcf(vcf_filename, prior_strength=100)"
   ],
   "metadata": {
    "collapsed": false,
    "pycharm": {
     "name": "#%%\n"
    }
   }
  },
  {
   "cell_type": "code",
   "execution_count": 5,
   "outputs": [],
   "source": [
    "if not Path(bamfile_location + '.bai').exists():\n",
    "    # index alignments file and check integrity\n",
    "    pysam.index(bamfile_location)"
   ],
   "metadata": {
    "collapsed": false,
    "pycharm": {
     "name": "#%%\n"
    }
   }
  },
  {
   "cell_type": "code",
   "execution_count": 6,
   "outputs": [
    {
     "name": "stderr",
     "output_type": "stream",
     "text": [
      "[Parallel(n_jobs=-1)]: Using backend LokyBackend with 16 concurrent workers.\n",
      "[Parallel(n_jobs=-1)]: Done   2 out of  22 | elapsed:  1.8min remaining: 17.9min\n",
      "[Parallel(n_jobs=-1)]: Done   5 out of  22 | elapsed:  2.2min remaining:  7.6min\n",
      "[Parallel(n_jobs=-1)]: Done   8 out of  22 | elapsed:  2.8min remaining:  4.8min\n",
      "[Parallel(n_jobs=-1)]: Done  11 out of  22 | elapsed:  2.9min remaining:  2.9min\n",
      "[Parallel(n_jobs=-1)]: Done  14 out of  22 | elapsed:  3.1min remaining:  1.8min\n",
      "[Parallel(n_jobs=-1)]: Done  17 out of  22 | elapsed:  3.3min remaining:   58.6s\n",
      "[Parallel(n_jobs=-1)]: Done  20 out of  22 | elapsed:  4.1min remaining:   24.3s\n",
      "[Parallel(n_jobs=-1)]: Done  22 out of  22 | elapsed:  5.4min finished\n"
     ]
    }
   ],
   "source": [
    "counts = count_snps(\n",
    "    bamfile_location=bamfile_location,\n",
    "    chromosome2positions=genotypes.get_chromosome2positions(),\n",
    "    barcode_handler=handler,\n",
    ")"
   ],
   "metadata": {
    "collapsed": false,
    "pycharm": {
     "name": "#%%\n"
    }
   }
  },
  {
   "cell_type": "code",
   "execution_count": 7,
   "outputs": [
    {
     "data": {
      "text/plain": "            n_molecules  n_snp_calls\nchromosome                          \n1                127873       170086\n10                32521        49631\n11                96455       139213\n12                84067       120895\n13                13085        17340\n14                48578        77595\n15               120039       227538\n16               128195       159872\n17                78840       119150\n18                 9402        11298\n19               192906       263970\n2                 89340       123210\n20                29423        39627\n21                10143        17049\n22                22834        39715\n3                 86026       104273\n4                 28099        39361\n5                 70909        85318\n6                136834       785806\n7                 74873       141768\n8                 62061        84507\n9                 30740        42465",
      "text/html": "<div>\n<style scoped>\n    .dataframe tbody tr th:only-of-type {\n        vertical-align: middle;\n    }\n\n    .dataframe tbody tr th {\n        vertical-align: top;\n    }\n\n    .dataframe thead th {\n        text-align: right;\n    }\n</style>\n<table border=\"1\" class=\"dataframe\">\n  <thead>\n    <tr style=\"text-align: right;\">\n      <th></th>\n      <th>n_molecules</th>\n      <th>n_snp_calls</th>\n    </tr>\n    <tr>\n      <th>chromosome</th>\n      <th></th>\n      <th></th>\n    </tr>\n  </thead>\n  <tbody>\n    <tr>\n      <th>1</th>\n      <td>127873</td>\n      <td>170086</td>\n    </tr>\n    <tr>\n      <th>10</th>\n      <td>32521</td>\n      <td>49631</td>\n    </tr>\n    <tr>\n      <th>11</th>\n      <td>96455</td>\n      <td>139213</td>\n    </tr>\n    <tr>\n      <th>12</th>\n      <td>84067</td>\n      <td>120895</td>\n    </tr>\n    <tr>\n      <th>13</th>\n      <td>13085</td>\n      <td>17340</td>\n    </tr>\n    <tr>\n      <th>14</th>\n      <td>48578</td>\n      <td>77595</td>\n    </tr>\n    <tr>\n      <th>15</th>\n      <td>120039</td>\n      <td>227538</td>\n    </tr>\n    <tr>\n      <th>16</th>\n      <td>128195</td>\n      <td>159872</td>\n    </tr>\n    <tr>\n      <th>17</th>\n      <td>78840</td>\n      <td>119150</td>\n    </tr>\n    <tr>\n      <th>18</th>\n      <td>9402</td>\n      <td>11298</td>\n    </tr>\n    <tr>\n      <th>19</th>\n      <td>192906</td>\n      <td>263970</td>\n    </tr>\n    <tr>\n      <th>2</th>\n      <td>89340</td>\n      <td>123210</td>\n    </tr>\n    <tr>\n      <th>20</th>\n      <td>29423</td>\n      <td>39627</td>\n    </tr>\n    <tr>\n      <th>21</th>\n      <td>10143</td>\n      <td>17049</td>\n    </tr>\n    <tr>\n      <th>22</th>\n      <td>22834</td>\n      <td>39715</td>\n    </tr>\n    <tr>\n      <th>3</th>\n      <td>86026</td>\n      <td>104273</td>\n    </tr>\n    <tr>\n      <th>4</th>\n      <td>28099</td>\n      <td>39361</td>\n    </tr>\n    <tr>\n      <th>5</th>\n      <td>70909</td>\n      <td>85318</td>\n    </tr>\n    <tr>\n      <th>6</th>\n      <td>136834</td>\n      <td>785806</td>\n    </tr>\n    <tr>\n      <th>7</th>\n      <td>74873</td>\n      <td>141768</td>\n    </tr>\n    <tr>\n      <th>8</th>\n      <td>62061</td>\n      <td>84507</td>\n    </tr>\n    <tr>\n      <th>9</th>\n      <td>30740</td>\n      <td>42465</td>\n    </tr>\n  </tbody>\n</table>\n</div>"
     },
     "execution_count": 7,
     "metadata": {},
     "output_type": "execute_result"
    },
    {
     "data": {
      "text/plain": "<Figure size 864x360 with 2 Axes>",
      "image/png": "[encoded data removed]"
     },
     "metadata": {
      "needs_background": "light"
     },
     "output_type": "display_data"
    }
   ],
   "source": [
    "from demuxalot import utils\n",
    "utils.summarize_counted_SNPs(counts)"
   ],
   "metadata": {
    "collapsed": false,
    "pycharm": {
     "name": "#%%\n"
    }
   }
  },
  {
   "cell_type": "markdown",
   "source": [
    "## Enrichment with new SNPs"
   ],
   "metadata": {
    "collapsed": false,
    "pycharm": {
     "name": "#%% md\n"
    }
   }
  },
  {
   "cell_type": "code",
   "execution_count": 8,
   "outputs": [
    {
     "name": "stderr",
     "output_type": "stream",
     "text": [
      "[Parallel(n_jobs=-1)]: Using backend LokyBackend with 16 concurrent workers.\n",
      "[Parallel(n_jobs=-1)]: Done   2 out of  22 | elapsed:  1.8min remaining: 18.4min\n",
      "[Parallel(n_jobs=-1)]: Done   5 out of  22 | elapsed:  2.3min remaining:  7.7min\n",
      "[Parallel(n_jobs=-1)]: Done   8 out of  22 | elapsed:  2.9min remaining:  5.0min\n",
      "[Parallel(n_jobs=-1)]: Done  11 out of  22 | elapsed:  2.9min remaining:  2.9min\n",
      "[Parallel(n_jobs=-1)]: Done  14 out of  22 | elapsed:  3.1min remaining:  1.7min\n",
      "[Parallel(n_jobs=-1)]: Done  17 out of  22 | elapsed:  3.3min remaining:   58.0s\n",
      "[Parallel(n_jobs=-1)]: Done  20 out of  22 | elapsed:  4.1min remaining:   24.5s\n",
      "[Parallel(n_jobs=-1)]: Done  22 out of  22 | elapsed:  5.3min finished\n"
     ]
    },
    {
     "name": "stdout",
     "output_type": "stream",
     "text": [
      "Number of SNPs used for each donor during inference\n",
      "101       1\n",
      "1043    808\n",
      "1079    774\n",
      "1085    809\n",
      "1154    805\n",
      "1249    698\n",
      "1311      1\n",
      "1493    660\n",
      "1511    890\n",
      "1598    686\n",
      "dtype: int64\n"
     ]
    },
    {
     "name": "stderr",
     "output_type": "stream",
     "text": [
      "[Parallel(n_jobs=-1)]: Using backend LokyBackend with 16 concurrent workers.\n",
      "[Parallel(n_jobs=-1)]: Done  33 out of 382 | elapsed:   54.1s remaining:  9.5min\n",
      "[Parallel(n_jobs=-1)]: Done  68 out of 382 | elapsed:  1.8min remaining:  8.4min\n",
      "[Parallel(n_jobs=-1)]: Done 103 out of 382 | elapsed:  3.0min remaining:  8.2min\n",
      "/usr/local/lib/python3.8/dist-packages/joblib/externals/loky/process_executor.py:702: UserWarning: A worker stopped while some jobs were given to the executor. This can be caused by a too short worker timeout or by a memory leak.\n",
      "  warnings.warn(\n",
      "[Parallel(n_jobs=-1)]: Done 138 out of 382 | elapsed:  4.7min remaining:  8.4min\n",
      "[Parallel(n_jobs=-1)]: Done 173 out of 382 | elapsed:  5.5min remaining:  6.7min\n",
      "[Parallel(n_jobs=-1)]: Done 208 out of 382 | elapsed:  6.1min remaining:  5.1min\n",
      "[Parallel(n_jobs=-1)]: Done 243 out of 382 | elapsed:  6.8min remaining:  3.9min\n",
      "[Parallel(n_jobs=-1)]: Done 278 out of 382 | elapsed:  7.7min remaining:  2.9min\n",
      "[Parallel(n_jobs=-1)]: Done 313 out of 382 | elapsed:  8.2min remaining:  1.8min\n",
      "[Parallel(n_jobs=-1)]: Done 348 out of 382 | elapsed:  8.2min remaining:   47.9s\n",
      "[Parallel(n_jobs=-1)]: Done 382 out of 382 | elapsed: 12.1min finished\n"
     ]
    }
   ],
   "source": [
    "new_snps_filename = 'new_snps_single_file.betas'\n",
    "_ = detect_snps_positions(\n",
    "    bamfile_location=str(bamfile_location),\n",
    "    genotypes=genotypes,\n",
    "    barcode_handler=handler,\n",
    "    minimum_coverage=200,\n",
    "    minimum_alternative_coverage=10,\n",
    "    result_beta_prior_filename=new_snps_filename,\n",
    "    n_best_snps_per_donor=100,\n",
    ")"
   ],
   "metadata": {
    "collapsed": false,
    "pycharm": {
     "name": "#%%\n"
    }
   }
  },
  {
   "cell_type": "code",
   "execution_count": 9,
   "outputs": [
    {
     "name": "stdout",
     "output_type": "stream",
     "text": [
      "Provided prior information about genotypes: []\n",
      "No information for genotypes: ['101', '1012', '1015', '1016', '1026', '1039', '1043', '1066', '107', '1079', '1085', '11', '1112', '1154', '12', '1244', '1249', '1256', '1286', '13', '1311', '1442', '1453', '1488', '1493', '15', '1511', '1598', '16', '18', '21', '6']\n"
     ]
    }
   ],
   "source": [
    "genotypes_with_new_snps = genotypes.clone()\n",
    "# adding new positions to genotypes\n",
    "# since there is indeed only positions, no any genotype-specific information\n",
    "genotypes_with_new_snps.add_prior_betas(new_snps_filename, prior_strength=1)"
   ],
   "metadata": {
    "collapsed": false,
    "pycharm": {
     "name": "#%%\n"
    }
   }
  },
  {
   "cell_type": "code",
   "execution_count": 10,
   "outputs": [
    {
     "name": "stderr",
     "output_type": "stream",
     "text": [
      "[Parallel(n_jobs=-1)]: Using backend LokyBackend with 16 concurrent workers.\n",
      "[Parallel(n_jobs=-1)]: Done   1 out of  27 | elapsed:  1.3min remaining: 34.8min\n",
      "[Parallel(n_jobs=-1)]: Done   4 out of  27 | elapsed:  2.3min remaining: 13.1min\n",
      "[Parallel(n_jobs=-1)]: Done   7 out of  27 | elapsed:  2.7min remaining:  7.8min\n",
      "[Parallel(n_jobs=-1)]: Done  10 out of  27 | elapsed:  3.0min remaining:  5.1min\n",
      "[Parallel(n_jobs=-1)]: Done  13 out of  27 | elapsed:  3.1min remaining:  3.3min\n",
      "[Parallel(n_jobs=-1)]: Done  16 out of  27 | elapsed:  3.3min remaining:  2.2min\n",
      "[Parallel(n_jobs=-1)]: Done  19 out of  27 | elapsed:  3.3min remaining:  1.4min\n",
      "[Parallel(n_jobs=-1)]: Done  22 out of  27 | elapsed:  3.5min remaining:   47.2s\n",
      "[Parallel(n_jobs=-1)]: Done  25 out of  27 | elapsed:  4.2min remaining:   20.3s\n",
      "[Parallel(n_jobs=-1)]: Done  27 out of  27 | elapsed:  5.5min finished\n"
     ]
    }
   ],
   "source": [
    "# counting with new SNPs\n",
    "counts_enriched = count_snps(\n",
    "    bamfile_location=str(bamfile_location),\n",
    "    chromosome2positions=genotypes_with_new_snps.get_chromosome2positions(),\n",
    "    barcode_handler=handler,\n",
    ")"
   ],
   "metadata": {
    "collapsed": false,
    "pycharm": {
     "name": "#%%\n"
    }
   }
  },
  {
   "cell_type": "code",
   "execution_count": 11,
   "outputs": [],
   "source": [
    "learnt_enriched_genotypes, probs_learning_new_snps = Demultiplexer.learn_genotypes(\n",
    "    counts_enriched,\n",
    "    genotypes_with_new_snps,\n",
    "    barcode_handler=handler,\n",
    "    doublet_prior=0.25,\n",
    ")"
   ],
   "metadata": {
    "collapsed": false,
    "pycharm": {
     "name": "#%%\n"
    }
   }
  },
  {
   "cell_type": "code",
   "execution_count": 12,
   "outputs": [
    {
     "data": {
      "text/plain": "                           101          1012          1015          1016  \\\nAAACATACCTAGAC-1  0.000000e+00  0.000000e+00  0.000000e+00  0.000000e+00   \nAAACATACGGTAGG-1  5.893444e-25  1.616812e-24  7.466817e-35  7.447178e-23   \nAAACATTGCGGAGA-1  0.000000e+00  2.326716e-41  0.000000e+00  3.918717e-38   \nAAACATTGTGGTCA-1  2.724481e-29  3.558636e-25  7.128015e-27  4.519256e-21   \nAAACCGTGAAAAGC-1  0.000000e+00  0.000000e+00  0.000000e+00  0.000000e+00   \n\n                          1026          1039          1043          1066  \\\nAAACATACCTAGAC-1  0.000000e+00  0.000000e+00  0.000000e+00  0.000000e+00   \nAAACATACGGTAGG-1  3.101730e-26  1.084200e-28  9.997730e-01  1.620205e-28   \nAAACATTGCGGAGA-1  0.000000e+00  2.641881e-33  2.793027e-31  1.608927e-29   \nAAACATTGTGGTCA-1  4.421980e-30  1.103842e-31  1.242284e-26  1.433674e-24   \nAAACCGTGAAAAGC-1  0.000000e+00  0.000000e+00  0.000000e+00  0.000000e+00   \n\n                           107          1079  ...       1598+16       1598+18  \\\nAAACATACCTAGAC-1  0.000000e+00  0.000000e+00  ...  2.416119e-18  4.153942e-21   \nAAACATACGGTAGG-1  1.013787e-27  4.656477e-27  ...  3.391982e-19  3.610624e-18   \nAAACATTGCGGAGA-1  1.968578e-29  5.268882e-43  ...  7.551176e-27  3.355862e-30   \nAAACATTGTGGTCA-1  2.344102e-29  1.310178e-18  ...  4.190151e-20  1.728635e-16   \nAAACCGTGAAAAGC-1  0.000000e+00  0.000000e+00  ...  3.304900e-18  1.980833e-15   \n\n                       1598+21        1598+6         16+18         16+21  \\\nAAACATACCTAGAC-1  9.072983e-19  2.416512e-21  0.000000e+00  0.000000e+00   \nAAACATACGGTAGG-1  6.178274e-19  5.692537e-20  2.869438e-21  1.059694e-22   \nAAACATTGCGGAGA-1  2.124797e-25  8.072488e-32  1.326743e-29  1.033131e-28   \nAAACATTGTGGTCA-1  2.003620e-19  3.751633e-19  1.267069e-22  4.440428e-27   \nAAACCGTGAAAAGC-1  1.309289e-17  3.008644e-16  0.000000e+00  0.000000e+00   \n\n                          16+6         18+21          18+6          21+6  \nAAACATACCTAGAC-1  0.000000e+00  0.000000e+00  0.000000e+00  0.000000e+00  \nAAACATACGGTAGG-1  1.680592e-22  2.783553e-21  1.973278e-21  7.332391e-23  \nAAACATTGCGGAGA-1  8.026980e-32  9.241092e-29  1.490514e-36  4.828426e-29  \nAAACATTGTGGTCA-1  1.480551e-22  5.169028e-23  7.700729e-19  7.410580e-26  \nAAACCGTGAAAAGC-1  0.000000e+00  0.000000e+00  0.000000e+00  0.000000e+00  \n\n[5 rows x 528 columns]",
      "text/html": "<div>\n<style scoped>\n    .dataframe tbody tr th:only-of-type {\n        vertical-align: middle;\n    }\n\n    .dataframe tbody tr th {\n        vertical-align: top;\n    }\n\n    .dataframe thead th {\n        text-align: right;\n    }\n</style>\n<table border=\"1\" class=\"dataframe\">\n  <thead>\n    <tr style=\"text-align: right;\">\n      <th></th>\n      <th>101</th>\n      <th>1012</th>\n      <th>1015</th>\n      <th>1016</th>\n      <th>1026</th>\n      <th>1039</th>\n      <th>1043</th>\n      <th>1066</th>\n      <th>107</th>\n      <th>1079</th>\n      <th>...</th>\n      <th>1598+16</th>\n      <th>1598+18</th>\n      <th>1598+21</th>\n      <th>1598+6</th>\n      <th>16+18</th>\n      <th>16+21</th>\n      <th>16+6</th>\n      <th>18+21</th>\n      <th>18+6</th>\n      <th>21+6</th>\n    </tr>\n  </thead>\n  <tbody>\n    <tr>\n      <th>AAACATACCTAGAC-1</th>\n      <td>0.000000e+00</td>\n      <td>0.000000e+00</td>\n      <td>0.000000e+00</td>\n      <td>0.000000e+00</td>\n      <td>0.000000e+00</td>\n      <td>0.000000e+00</td>\n      <td>0.000000e+00</td>\n      <td>0.000000e+00</td>\n      <td>0.000000e+00</td>\n      <td>0.000000e+00</td>\n      <td>...</td>\n      <td>2.416119e-18</td>\n      <td>4.153942e-21</td>\n      <td>9.072983e-19</td>\n      <td>2.416512e-21</td>\n      <td>0.000000e+00</td>\n      <td>0.000000e+00</td>\n      <td>0.000000e+00</td>\n      <td>0.000000e+00</td>\n      <td>0.000000e+00</td>\n      <td>0.000000e+00</td>\n    </tr>\n    <tr>\n      <th>AAACATACGGTAGG-1</th>\n      <td>5.893444e-25</td>\n      <td>1.616812e-24</td>\n      <td>7.466817e-35</td>\n      <td>7.447178e-23</td>\n      <td>3.101730e-26</td>\n      <td>1.084200e-28</td>\n      <td>9.997730e-01</td>\n      <td>1.620205e-28</td>\n      <td>1.013787e-27</td>\n      <td>4.656477e-27</td>\n      <td>...</td>\n      <td>3.391982e-19</td>\n      <td>3.610624e-18</td>\n      <td>6.178274e-19</td>\n      <td>5.692537e-20</td>\n      <td>2.869438e-21</td>\n      <td>1.059694e-22</td>\n      <td>1.680592e-22</td>\n      <td>2.783553e-21</td>\n      <td>1.973278e-21</td>\n      <td>7.332391e-23</td>\n    </tr>\n    <tr>\n      <th>AAACATTGCGGAGA-1</th>\n      <td>0.000000e+00</td>\n      <td>2.326716e-41</td>\n      <td>0.000000e+00</td>\n      <td>3.918717e-38</td>\n      <td>0.000000e+00</td>\n      <td>2.641881e-33</td>\n      <td>2.793027e-31</td>\n      <td>1.608927e-29</td>\n      <td>1.968578e-29</td>\n      <td>5.268882e-43</td>\n      <td>...</td>\n      <td>7.551176e-27</td>\n      <td>3.355862e-30</td>\n      <td>2.124797e-25</td>\n      <td>8.072488e-32</td>\n      <td>1.326743e-29</td>\n      <td>1.033131e-28</td>\n      <td>8.026980e-32</td>\n      <td>9.241092e-29</td>\n      <td>1.490514e-36</td>\n      <td>4.828426e-29</td>\n    </tr>\n    <tr>\n      <th>AAACATTGTGGTCA-1</th>\n      <td>2.724481e-29</td>\n      <td>3.558636e-25</td>\n      <td>7.128015e-27</td>\n      <td>4.519256e-21</td>\n      <td>4.421980e-30</td>\n      <td>1.103842e-31</td>\n      <td>1.242284e-26</td>\n      <td>1.433674e-24</td>\n      <td>2.344102e-29</td>\n      <td>1.310178e-18</td>\n      <td>...</td>\n      <td>4.190151e-20</td>\n      <td>1.728635e-16</td>\n      <td>2.003620e-19</td>\n      <td>3.751633e-19</td>\n      <td>1.267069e-22</td>\n      <td>4.440428e-27</td>\n      <td>1.480551e-22</td>\n      <td>5.169028e-23</td>\n      <td>7.700729e-19</td>\n      <td>7.410580e-26</td>\n    </tr>\n    <tr>\n      <th>AAACCGTGAAAAGC-1</th>\n      <td>0.000000e+00</td>\n      <td>0.000000e+00</td>\n      <td>0.000000e+00</td>\n      <td>0.000000e+00</td>\n      <td>0.000000e+00</td>\n      <td>0.000000e+00</td>\n      <td>0.000000e+00</td>\n      <td>0.000000e+00</td>\n      <td>0.000000e+00</td>\n      <td>0.000000e+00</td>\n      <td>...</td>\n      <td>3.304900e-18</td>\n      <td>1.980833e-15</td>\n      <td>1.309289e-17</td>\n      <td>3.008644e-16</td>\n      <td>0.000000e+00</td>\n      <td>0.000000e+00</td>\n      <td>0.000000e+00</td>\n      <td>0.000000e+00</td>\n      <td>0.000000e+00</td>\n      <td>0.000000e+00</td>\n    </tr>\n  </tbody>\n</table>\n<p>5 rows × 528 columns</p>\n</div>"
     },
     "execution_count": 12,
     "metadata": {},
     "output_type": "execute_result"
    }
   ],
   "source": [
    "probs_learning_new_snps.head()"
   ],
   "metadata": {
    "collapsed": false,
    "pycharm": {
     "name": "#%%\n"
    }
   }
  },
  {
   "cell_type": "code",
   "execution_count": 13,
   "outputs": [
    {
     "data": {
      "text/plain": "AAACATACCTAGAC-1    1598\nAAACATACGGTAGG-1    1043\nAAACATTGCGGAGA-1    1085\nAAACATTGTGGTCA-1    1511\nAAACCGTGAAAAGC-1    1598\n                    ... \nTTTGACTGTGCCCT-1    1493\nTTTGCATGAGCATC-1    1085\nTTTGCATGCATTGG-1    1249\nTTTGCATGTATCGG-1    1493\nTTTGCATGTTTCTG-1    1493\nLength: 6112, dtype: object"
     },
     "execution_count": 13,
     "metadata": {},
     "output_type": "execute_result"
    }
   ],
   "source": [
    "# if you need only assignments:\n",
    "probs_learning_new_snps[probs_learning_new_snps.max(axis=1).gt(0.9)].idxmax(axis=1)\n",
    "\n",
    "# note that threshold should be adjusted according to 1) your confidence in data 2) how pure your sample should be for analysis.\n",
    "# Threshold of 0.9 is ok for a vast majority of use-cases"
   ],
   "metadata": {
    "collapsed": false,
    "pycharm": {
     "name": "#%%\n"
    }
   }
  },
  {
   "cell_type": "markdown",
   "source": [
    "## For comparison: if we skipped SNP detection, pipeline would look like this:"
   ],
   "metadata": {
    "collapsed": false,
    "pycharm": {
     "name": "#%% md\n"
    }
   }
  },
  {
   "cell_type": "code",
   "execution_count": 14,
   "outputs": [],
   "source": [
    "_posterior_logits, probs_without_learning = Demultiplexer.predict_posteriors(\n",
    "    counts,\n",
    "    genotypes,\n",
    "    barcode_handler=handler,\n",
    "    doublet_prior=0.25,\n",
    ")"
   ],
   "metadata": {
    "collapsed": false,
    "pycharm": {
     "name": "#%%\n"
    }
   }
  },
  {
   "cell_type": "code",
   "execution_count": 15,
   "outputs": [],
   "source": [
    "genotypes_improved, probs_with_learning = Demultiplexer.learn_genotypes(\n",
    "    counts,\n",
    "    genotypes=genotypes,\n",
    "    barcode_handler=handler,\n",
    "    doublet_prior=0.25,\n",
    ")"
   ],
   "metadata": {
    "collapsed": false,
    "pycharm": {
     "name": "#%%\n"
    }
   }
  },
  {
   "cell_type": "code",
   "execution_count": 16,
   "outputs": [],
   "source": [
    "_, probs_learning_new_snps_replica = Demultiplexer.predict_posteriors(\n",
    "    counts,\n",
    "    learnt_enriched_genotypes,\n",
    "    barcode_handler=handler,\n",
    "    doublet_prior=0.25,\n",
    ")"
   ],
   "metadata": {
    "collapsed": false,
    "pycharm": {
     "name": "#%%\n"
    }
   }
  },
  {
   "cell_type": "code",
   "execution_count": 17,
   "outputs": [
    {
     "data": {
      "text/plain": "      no learning    learning  with new SNPs  with new SNPs replica\n101      0.646361    0.208113       0.055152               0.164370\n1012     0.077494    0.078445       0.042626               0.078315\n1015     0.069088    0.072375       0.028998               0.069680\n1016     0.076472    0.078753       0.037509               0.078346\n1026     0.112641    0.113556       0.041981               0.113519\n1039     0.027643    0.025233       0.006196               0.025292\n1043   763.273193  768.629333     769.489258             768.749023\n1066     0.205595    0.224246       0.149512               0.209892\n107      0.047433    0.048027       0.011478               0.047541\n1079   706.252808  737.777405     738.297424             737.923035\n1085   731.029846  770.887451     772.015869             771.373230\n11       0.007296    0.007795       0.006499               0.007446\n1112     0.059796    0.060866       0.042625               0.060765\n1154   738.486816  757.271667     758.369934             757.719177\n12       0.035781    0.037205       0.034721               0.037146\n1244     0.184476    0.189692       0.101231               0.190567\n1249   643.809326  653.218750     654.862244             653.463196\n1256     0.030781    0.023101       0.022164               0.022821\n1286     0.035383    0.035945       0.023673               0.034784\n13       0.056460    0.058050       0.055170               0.058053\n1311     0.013443    0.012487       0.011177               0.012297\n1442     0.135511    0.141487       0.122146               0.142605\n1453     0.125494    0.123377       0.043431               0.122035\n1488     0.297090    0.319675       0.054694               0.283336\n1493   607.151245  623.648315     624.717896             623.867920\n15       0.317130    0.230525       0.015282               0.228635\n1511   832.863098  846.776062     847.509705             846.859924\n1598   651.221741  657.394958     653.409546             657.232849\n16       0.018082    0.016855       0.007209               0.016231\n18       0.198767    0.086685       0.024094               0.102218\n21       0.043403    0.044243       0.041943               0.044237\n6        0.073719    0.074877       0.004156               0.073933",
      "text/html": "<div>\n<style scoped>\n    .dataframe tbody tr th:only-of-type {\n        vertical-align: middle;\n    }\n\n    .dataframe tbody tr th {\n        vertical-align: top;\n    }\n\n    .dataframe thead th {\n        text-align: right;\n    }\n</style>\n<table border=\"1\" class=\"dataframe\">\n  <thead>\n    <tr style=\"text-align: right;\">\n      <th></th>\n      <th>no learning</th>\n      <th>learning</th>\n      <th>with new SNPs</th>\n      <th>with new SNPs replica</th>\n    </tr>\n  </thead>\n  <tbody>\n    <tr>\n      <th>101</th>\n      <td>0.646361</td>\n      <td>0.208113</td>\n      <td>0.055152</td>\n      <td>0.164370</td>\n    </tr>\n    <tr>\n      <th>1012</th>\n      <td>0.077494</td>\n      <td>0.078445</td>\n      <td>0.042626</td>\n      <td>0.078315</td>\n    </tr>\n    <tr>\n      <th>1015</th>\n      <td>0.069088</td>\n      <td>0.072375</td>\n      <td>0.028998</td>\n      <td>0.069680</td>\n    </tr>\n    <tr>\n      <th>1016</th>\n      <td>0.076472</td>\n      <td>0.078753</td>\n      <td>0.037509</td>\n      <td>0.078346</td>\n    </tr>\n    <tr>\n      <th>1026</th>\n      <td>0.112641</td>\n      <td>0.113556</td>\n      <td>0.041981</td>\n      <td>0.113519</td>\n    </tr>\n    <tr>\n      <th>1039</th>\n      <td>0.027643</td>\n      <td>0.025233</td>\n      <td>0.006196</td>\n      <td>0.025292</td>\n    </tr>\n    <tr>\n      <th>1043</th>\n      <td>763.273193</td>\n      <td>768.629333</td>\n      <td>769.489258</td>\n      <td>768.749023</td>\n    </tr>\n    <tr>\n      <th>1066</th>\n      <td>0.205595</td>\n      <td>0.224246</td>\n      <td>0.149512</td>\n      <td>0.209892</td>\n    </tr>\n    <tr>\n      <th>107</th>\n      <td>0.047433</td>\n      <td>0.048027</td>\n      <td>0.011478</td>\n      <td>0.047541</td>\n    </tr>\n    <tr>\n      <th>1079</th>\n      <td>706.252808</td>\n      <td>737.777405</td>\n      <td>738.297424</td>\n      <td>737.923035</td>\n    </tr>\n    <tr>\n      <th>1085</th>\n      <td>731.029846</td>\n      <td>770.887451</td>\n      <td>772.015869</td>\n      <td>771.373230</td>\n    </tr>\n    <tr>\n      <th>11</th>\n      <td>0.007296</td>\n      <td>0.007795</td>\n      <td>0.006499</td>\n      <td>0.007446</td>\n    </tr>\n    <tr>\n      <th>1112</th>\n      <td>0.059796</td>\n      <td>0.060866</td>\n      <td>0.042625</td>\n      <td>0.060765</td>\n    </tr>\n    <tr>\n      <th>1154</th>\n      <td>738.486816</td>\n      <td>757.271667</td>\n      <td>758.369934</td>\n      <td>757.719177</td>\n    </tr>\n    <tr>\n      <th>12</th>\n      <td>0.035781</td>\n      <td>0.037205</td>\n      <td>0.034721</td>\n      <td>0.037146</td>\n    </tr>\n    <tr>\n      <th>1244</th>\n      <td>0.184476</td>\n      <td>0.189692</td>\n      <td>0.101231</td>\n      <td>0.190567</td>\n    </tr>\n    <tr>\n      <th>1249</th>\n      <td>643.809326</td>\n      <td>653.218750</td>\n      <td>654.862244</td>\n      <td>653.463196</td>\n    </tr>\n    <tr>\n      <th>1256</th>\n      <td>0.030781</td>\n      <td>0.023101</td>\n      <td>0.022164</td>\n      <td>0.022821</td>\n    </tr>\n    <tr>\n      <th>1286</th>\n      <td>0.035383</td>\n      <td>0.035945</td>\n      <td>0.023673</td>\n      <td>0.034784</td>\n    </tr>\n    <tr>\n      <th>13</th>\n      <td>0.056460</td>\n      <td>0.058050</td>\n      <td>0.055170</td>\n      <td>0.058053</td>\n    </tr>\n    <tr>\n      <th>1311</th>\n      <td>0.013443</td>\n      <td>0.012487</td>\n      <td>0.011177</td>\n      <td>0.012297</td>\n    </tr>\n    <tr>\n      <th>1442</th>\n      <td>0.135511</td>\n      <td>0.141487</td>\n      <td>0.122146</td>\n      <td>0.142605</td>\n    </tr>\n    <tr>\n      <th>1453</th>\n      <td>0.125494</td>\n      <td>0.123377</td>\n      <td>0.043431</td>\n      <td>0.122035</td>\n    </tr>\n    <tr>\n      <th>1488</th>\n      <td>0.297090</td>\n      <td>0.319675</td>\n      <td>0.054694</td>\n      <td>0.283336</td>\n    </tr>\n    <tr>\n      <th>1493</th>\n      <td>607.151245</td>\n      <td>623.648315</td>\n      <td>624.717896</td>\n      <td>623.867920</td>\n    </tr>\n    <tr>\n      <th>15</th>\n      <td>0.317130</td>\n      <td>0.230525</td>\n      <td>0.015282</td>\n      <td>0.228635</td>\n    </tr>\n    <tr>\n      <th>1511</th>\n      <td>832.863098</td>\n      <td>846.776062</td>\n      <td>847.509705</td>\n      <td>846.859924</td>\n    </tr>\n    <tr>\n      <th>1598</th>\n      <td>651.221741</td>\n      <td>657.394958</td>\n      <td>653.409546</td>\n      <td>657.232849</td>\n    </tr>\n    <tr>\n      <th>16</th>\n      <td>0.018082</td>\n      <td>0.016855</td>\n      <td>0.007209</td>\n      <td>0.016231</td>\n    </tr>\n    <tr>\n      <th>18</th>\n      <td>0.198767</td>\n      <td>0.086685</td>\n      <td>0.024094</td>\n      <td>0.102218</td>\n    </tr>\n    <tr>\n      <th>21</th>\n      <td>0.043403</td>\n      <td>0.044243</td>\n      <td>0.041943</td>\n      <td>0.044237</td>\n    </tr>\n    <tr>\n      <th>6</th>\n      <td>0.073719</td>\n      <td>0.074877</td>\n      <td>0.004156</td>\n      <td>0.073933</td>\n    </tr>\n  </tbody>\n</table>\n</div>"
     },
     "execution_count": 17,
     "metadata": {},
     "output_type": "execute_result"
    }
   ],
   "source": [
    "pd.DataFrame({\n",
    "    'no learning': probs_without_learning[genotype_names].sum(),\n",
    "    'learning': probs_with_learning[genotype_names].sum(),\n",
    "    'with new SNPs': probs_learning_new_snps[genotype_names].sum(),\n",
    "    'with new SNPs replica': probs_learning_new_snps_replica[genotype_names].sum(),\n",
    "})"
   ],
   "metadata": {
    "collapsed": false,
    "pycharm": {
     "name": "#%%\n"
    }
   }
  },
  {
   "cell_type": "code",
   "execution_count": null,
   "outputs": [],
   "source": [],
   "metadata": {
    "collapsed": false,
    "pycharm": {
     "name": "#%%\n"
    }
   }
  },
  {
   "cell_type": "code",
   "execution_count": 29,
   "outputs": [
    {
     "data": {
      "text/plain": "      no learning    learning  with new SNPs  with new SNPs replica\n101      0.683443    0.194203       0.058715               0.224822\n1012     0.082679    0.083878       0.045124               0.083729\n1015     0.066046    0.067257       0.031405               0.072657\n1016     0.079092    0.081217       0.037064               0.081679\n1026     0.120748    0.122110       0.044754               0.121060\n1039     0.017777    0.016033       0.000314               0.016949\n1043   766.485128  770.147469     771.521899             771.260134\n1066     0.226480    0.235499       0.166581               0.259100\n107      0.050697    0.051025       0.012036               0.051492\n1079   703.630471  738.593162     739.359608             740.836566\n1085   739.596504  772.320615     773.044912             774.033072\n11       0.007274    0.007450       0.006224               0.008443\n1112     0.058925    0.060137       0.045125               0.060311\n1154   747.020648  760.613167     760.894834             762.586440\n12       0.037985    0.039603       0.037026               0.040064\n1244     0.197060    0.203568       0.109026               0.200773\n1249   646.558753  654.160028     656.256934             655.928200\n1256     0.041283    0.023976       0.023383               0.024908\n1286     0.040226    0.040834       0.026928               0.044936\n13       0.059653    0.061555       0.058713               0.061658\n1311     0.010965    0.010346       0.008984               0.011263\n1442     0.143728    0.151564       0.131875               0.150179\n1453     0.131131    0.131333       0.045818               0.132256\n1488     0.372820    0.378202       0.103181               0.360457\n1493   610.217976  627.223203     628.007841             627.971055\n15       0.322841    0.224823       0.014369               0.220736\n1511   836.664748  846.820945     847.599413             847.831845\n1598   655.000709  661.670076     656.716326             662.418882\n16       0.019234    0.018300       0.007598               0.019071\n18       0.271267    0.126167       0.024866               0.138004\n21       0.044925    0.046051       0.044540               0.046416\n6        0.079973    0.080222       0.003609               0.081691",
      "text/html": "<div>\n<style scoped>\n    .dataframe tbody tr th:only-of-type {\n        vertical-align: middle;\n    }\n\n    .dataframe tbody tr th {\n        vertical-align: top;\n    }\n\n    .dataframe thead th {\n        text-align: right;\n    }\n</style>\n<table border=\"1\" class=\"dataframe\">\n  <thead>\n    <tr style=\"text-align: right;\">\n      <th></th>\n      <th>no learning</th>\n      <th>learning</th>\n      <th>with new SNPs</th>\n      <th>with new SNPs replica</th>\n    </tr>\n  </thead>\n  <tbody>\n    <tr>\n      <th>101</th>\n      <td>0.683443</td>\n      <td>0.194203</td>\n      <td>0.058715</td>\n      <td>0.224822</td>\n    </tr>\n    <tr>\n      <th>1012</th>\n      <td>0.082679</td>\n      <td>0.083878</td>\n      <td>0.045124</td>\n      <td>0.083729</td>\n    </tr>\n    <tr>\n      <th>1015</th>\n      <td>0.066046</td>\n      <td>0.067257</td>\n      <td>0.031405</td>\n      <td>0.072657</td>\n    </tr>\n    <tr>\n      <th>1016</th>\n      <td>0.079092</td>\n      <td>0.081217</td>\n      <td>0.037064</td>\n      <td>0.081679</td>\n    </tr>\n    <tr>\n      <th>1026</th>\n      <td>0.120748</td>\n      <td>0.122110</td>\n      <td>0.044754</td>\n      <td>0.121060</td>\n    </tr>\n    <tr>\n      <th>1039</th>\n      <td>0.017777</td>\n      <td>0.016033</td>\n      <td>0.000314</td>\n      <td>0.016949</td>\n    </tr>\n    <tr>\n      <th>1043</th>\n      <td>766.485128</td>\n      <td>770.147469</td>\n      <td>771.521899</td>\n      <td>771.260134</td>\n    </tr>\n    <tr>\n      <th>1066</th>\n      <td>0.226480</td>\n      <td>0.235499</td>\n      <td>0.166581</td>\n      <td>0.259100</td>\n    </tr>\n    <tr>\n      <th>107</th>\n      <td>0.050697</td>\n      <td>0.051025</td>\n      <td>0.012036</td>\n      <td>0.051492</td>\n    </tr>\n    <tr>\n      <th>1079</th>\n      <td>703.630471</td>\n      <td>738.593162</td>\n      <td>739.359608</td>\n      <td>740.836566</td>\n    </tr>\n    <tr>\n      <th>1085</th>\n      <td>739.596504</td>\n      <td>772.320615</td>\n      <td>773.044912</td>\n      <td>774.033072</td>\n    </tr>\n    <tr>\n      <th>11</th>\n      <td>0.007274</td>\n      <td>0.007450</td>\n      <td>0.006224</td>\n      <td>0.008443</td>\n    </tr>\n    <tr>\n      <th>1112</th>\n      <td>0.058925</td>\n      <td>0.060137</td>\n      <td>0.045125</td>\n      <td>0.060311</td>\n    </tr>\n    <tr>\n      <th>1154</th>\n      <td>747.020648</td>\n      <td>760.613167</td>\n      <td>760.894834</td>\n      <td>762.586440</td>\n    </tr>\n    <tr>\n      <th>12</th>\n      <td>0.037985</td>\n      <td>0.039603</td>\n      <td>0.037026</td>\n      <td>0.040064</td>\n    </tr>\n    <tr>\n      <th>1244</th>\n      <td>0.197060</td>\n      <td>0.203568</td>\n      <td>0.109026</td>\n      <td>0.200773</td>\n    </tr>\n    <tr>\n      <th>1249</th>\n      <td>646.558753</td>\n      <td>654.160028</td>\n      <td>656.256934</td>\n      <td>655.928200</td>\n    </tr>\n    <tr>\n      <th>1256</th>\n      <td>0.041283</td>\n      <td>0.023976</td>\n      <td>0.023383</td>\n      <td>0.024908</td>\n    </tr>\n    <tr>\n      <th>1286</th>\n      <td>0.040226</td>\n      <td>0.040834</td>\n      <td>0.026928</td>\n      <td>0.044936</td>\n    </tr>\n    <tr>\n      <th>13</th>\n      <td>0.059653</td>\n      <td>0.061555</td>\n      <td>0.058713</td>\n      <td>0.061658</td>\n    </tr>\n    <tr>\n      <th>1311</th>\n      <td>0.010965</td>\n      <td>0.010346</td>\n      <td>0.008984</td>\n      <td>0.011263</td>\n    </tr>\n    <tr>\n      <th>1442</th>\n      <td>0.143728</td>\n      <td>0.151564</td>\n      <td>0.131875</td>\n      <td>0.150179</td>\n    </tr>\n    <tr>\n      <th>1453</th>\n      <td>0.131131</td>\n      <td>0.131333</td>\n      <td>0.045818</td>\n      <td>0.132256</td>\n    </tr>\n    <tr>\n      <th>1488</th>\n      <td>0.372820</td>\n      <td>0.378202</td>\n      <td>0.103181</td>\n      <td>0.360457</td>\n    </tr>\n    <tr>\n      <th>1493</th>\n      <td>610.217976</td>\n      <td>627.223203</td>\n      <td>628.007841</td>\n      <td>627.971055</td>\n    </tr>\n    <tr>\n      <th>15</th>\n      <td>0.322841</td>\n      <td>0.224823</td>\n      <td>0.014369</td>\n      <td>0.220736</td>\n    </tr>\n    <tr>\n      <th>1511</th>\n      <td>836.664748</td>\n      <td>846.820945</td>\n      <td>847.599413</td>\n      <td>847.831845</td>\n    </tr>\n    <tr>\n      <th>1598</th>\n      <td>655.000709</td>\n      <td>661.670076</td>\n      <td>656.716326</td>\n      <td>662.418882</td>\n    </tr>\n    <tr>\n      <th>16</th>\n      <td>0.019234</td>\n      <td>0.018300</td>\n      <td>0.007598</td>\n      <td>0.019071</td>\n    </tr>\n    <tr>\n      <th>18</th>\n      <td>0.271267</td>\n      <td>0.126167</td>\n      <td>0.024866</td>\n      <td>0.138004</td>\n    </tr>\n    <tr>\n      <th>21</th>\n      <td>0.044925</td>\n      <td>0.046051</td>\n      <td>0.044540</td>\n      <td>0.046416</td>\n    </tr>\n    <tr>\n      <th>6</th>\n      <td>0.079973</td>\n      <td>0.080222</td>\n      <td>0.003609</td>\n      <td>0.081691</td>\n    </tr>\n  </tbody>\n</table>\n</div>"
     },
     "execution_count": 29,
     "metadata": {},
     "output_type": "execute_result"
    }
   ],
   "source": [
    "pd.DataFrame({\n",
    "    'no learning': probs_without_learning[genotype_names].sum(),\n",
    "    'learning': probs_with_learning[genotype_names].sum(),\n",
    "    'with new SNPs': probs_learning_new_snps[genotype_names].sum(),\n",
    "    'with new SNPs replica': probs_learning_new_snps_replica[genotype_names].sum(),\n",
    "})"
   ],
   "metadata": {
    "collapsed": false,
    "pycharm": {
     "name": "#%%\n"
    }
   }
  }
 ],
 "metadata": {
  "kernelspec": {
   "display_name": "Python 3",
   "language": "python",
   "name": "python3"
  },
  "language_info": {
   "codemirror_mode": {
    "name": "ipython",
    "version": 2
   },
   "file_extension": ".py",
   "mimetype": "text/x-python",
   "name": "python",
   "nbconvert_exporter": "python",
   "pygments_lexer": "ipython2",
   "version": "2.7.6"
  }
 },
 "nbformat": 4,
 "nbformat_minor": 0
}