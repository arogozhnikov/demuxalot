{
 "cells": [
  {
   "cell_type": "markdown",
   "source": [
    "## Demuxalot + detection of new SNPs\n",
    "\n",
    "an example of demultiplexing using a single bamfile\n",
    "\n",
    "(demuxalot can deal with multiple bamfiles simulteneously - it is far more efficient than merging bamfiles,\n",
    "but not shown in this tutorial)\n",
    "\n",
    "We only need some amount of information about each genotype.\n",
    "New SNPs found without any reference (like 1000 Genomes or so) and tailored specifically for your case."
   ],
   "metadata": {
    "collapsed": false,
    "pycharm": {
     "name": "#%% md\n"
    }
   }
  },
  {
   "cell_type": "code",
   "execution_count": 1,
   "outputs": [],
   "source": [
    "import os\n",
    "from pathlib import Path\n",
    "import pandas as pd\n",
    "import pysam\n",
    "\n",
    "from demuxalot.utils import download_file\n",
    "from demuxalot import BarcodeHandler, ProbabilisticGenotypes, Demultiplexer, count_snps, detect_snps_positions"
   ],
   "metadata": {
    "collapsed": false,
    "pycharm": {
     "name": "#%%\n"
    }
   }
  },
  {
   "cell_type": "code",
   "execution_count": 2,
   "outputs": [],
   "source": [
    "local_path = Path.home().joinpath('demuxalot_examples/new_snps_simplified')\n",
    "local_path.mkdir(exist_ok=True)\n",
    "os.chdir(local_path)"
   ],
   "metadata": {
    "collapsed": false,
    "pycharm": {
     "name": "#%%\n"
    }
   }
  },
  {
   "cell_type": "code",
   "execution_count": 3,
   "outputs": [
    {
     "name": "stdout",
     "output_type": "stream",
     "text": [
      "file C.merged.bam.1 already exists locally\n",
      "file 32_donors.vcf already exists locally\n",
      "file barcodes/C.tsv.gz already exists locally\n"
     ]
    }
   ],
   "source": [
    "bamfile_location = download_file(\"https://sra-pub-src-1.s3.amazonaws.com/SRR5398237/C.merged.bam.1\", \"C.merged.bam.1\")\n",
    "\n",
    "vcf_filename = download_file(\n",
    "    \"https://github.com/yelabucsf/demuxlet_paper_code/raw/master/fig2/b1.b2.b3.merged_32.eagle.hrc.imputed.autosomes.dose.mac1.exon.recode.vcf.gz\",\n",
    "    \"32_donors.vcf\",\n",
    ")\n",
    "\n",
    "barcode_filename = download_file('https://www.ncbi.nlm.nih.gov/geo/download/?acc=GSM2560247&format=file&file=GSM2560247%5Fbarcodes%2Etsv%2Egz', 'barcodes/C.tsv.gz')"
   ],
   "metadata": {
    "collapsed": false,
    "pycharm": {
     "name": "#%%\n"
    }
   }
  },
  {
   "cell_type": "code",
   "execution_count": 4,
   "outputs": [],
   "source": [
    "handler = BarcodeHandler.from_file(barcode_filename)\n",
    "\n",
    "# well, that's the names that were used in the original data.\n",
    "# Recommendation: use better names when you do the same,\n",
    "# like Donor6, Donor11, ...\n",
    "genotype_names = [\n",
    "    '6', '11', '12', '13', '15', '16', '18', '21',\n",
    "    '1015', '1016', '1026', '1043', '1039', '1112', '1012',\n",
    "    '1249', '1244', '1066', '1488', '1511', '1311', '1286',\n",
    "    '1256', '1493', '1442', '1453', '1598', '1085', '1079',\n",
    "    '1154', '107', '101'\n",
    "]\n",
    "genotype_names.sort()\n",
    "genotypes = ProbabilisticGenotypes(genotype_names=genotype_names)\n",
    "# prior_strength reflect confidence in assigned genotypes.\n",
    "# should be relative to scrnaseq read. Confidence of assignment ~100 reads from rnaseq\n",
    "genotypes.add_vcf(vcf_filename, prior_strength=100)"
   ],
   "metadata": {
    "collapsed": false,
    "pycharm": {
     "name": "#%%\n"
    }
   }
  },
  {
   "cell_type": "code",
   "execution_count": 5,
   "outputs": [],
   "source": [
    "if not Path(bamfile_location).with_suffix('.bam.bai').exists():\n",
    "    pysam.index(bamfile_location)"
   ],
   "metadata": {
    "collapsed": false,
    "pycharm": {
     "name": "#%%\n"
    }
   }
  },
  {
   "cell_type": "code",
   "execution_count": 6,
   "outputs": [
    {
     "name": "stderr",
     "output_type": "stream",
     "text": [
      "[Parallel(n_jobs=-1)]: Using backend LokyBackend with 32 concurrent workers.\n",
      "[Parallel(n_jobs=-1)]: Done   2 out of  22 | elapsed:   28.0s remaining:  4.7min\n",
      "[Parallel(n_jobs=-1)]: Done   5 out of  22 | elapsed:   37.6s remaining:  2.1min\n",
      "[Parallel(n_jobs=-1)]: Done   8 out of  22 | elapsed:   50.6s remaining:  1.5min\n",
      "[Parallel(n_jobs=-1)]: Done  11 out of  22 | elapsed:   56.9s remaining:   56.9s\n",
      "[Parallel(n_jobs=-1)]: Done  14 out of  22 | elapsed:  1.4min remaining:   47.2s\n",
      "[Parallel(n_jobs=-1)]: Done  17 out of  22 | elapsed:  1.5min remaining:   27.2s\n",
      "[Parallel(n_jobs=-1)]: Done  20 out of  22 | elapsed:  2.1min remaining:   12.8s\n",
      "[Parallel(n_jobs=-1)]: Done  22 out of  22 | elapsed:  3.0min finished\n"
     ]
    }
   ],
   "source": [
    "counts = count_snps(\n",
    "    bamfile_location=bamfile_location,\n",
    "    chromosome2positions=genotypes.get_chromosome2positions(),\n",
    "    barcode_handler=handler,\n",
    ")"
   ],
   "metadata": {
    "collapsed": false,
    "pycharm": {
     "name": "#%%\n"
    }
   }
  },
  {
   "cell_type": "code",
   "execution_count": 7,
   "outputs": [
    {
     "data": {
      "text/plain": "            n_molecules  n_snp_calls\nchromosome                          \n1                127877       170086\n10                32523        49629\n11                96458       139208\n12                84067       120897\n13                13089        17346\n14                48582        77598\n15               120040       227546\n16               128174       159860\n17                78852       119157\n18                 9404        11299\n19               192902       263983\n2                 89335       123218\n20                29428        39634\n21                10144        17049\n22                22834        39720\n3                 86036       104278\n4                 28101        39364\n5                 70914        85318\n6                136842       785882\n7                 74873       141763\n8                 62071        84517\n9                 30747        42472",
      "text/html": "<div>\n<style scoped>\n    .dataframe tbody tr th:only-of-type {\n        vertical-align: middle;\n    }\n\n    .dataframe tbody tr th {\n        vertical-align: top;\n    }\n\n    .dataframe thead th {\n        text-align: right;\n    }\n</style>\n<table border=\"1\" class=\"dataframe\">\n  <thead>\n    <tr style=\"text-align: right;\">\n      <th></th>\n      <th>n_molecules</th>\n      <th>n_snp_calls</th>\n    </tr>\n    <tr>\n      <th>chromosome</th>\n      <th></th>\n      <th></th>\n    </tr>\n  </thead>\n  <tbody>\n    <tr>\n      <th>1</th>\n      <td>127877</td>\n      <td>170086</td>\n    </tr>\n    <tr>\n      <th>10</th>\n      <td>32523</td>\n      <td>49629</td>\n    </tr>\n    <tr>\n      <th>11</th>\n      <td>96458</td>\n      <td>139208</td>\n    </tr>\n    <tr>\n      <th>12</th>\n      <td>84067</td>\n      <td>120897</td>\n    </tr>\n    <tr>\n      <th>13</th>\n      <td>13089</td>\n      <td>17346</td>\n    </tr>\n    <tr>\n      <th>14</th>\n      <td>48582</td>\n      <td>77598</td>\n    </tr>\n    <tr>\n      <th>15</th>\n      <td>120040</td>\n      <td>227546</td>\n    </tr>\n    <tr>\n      <th>16</th>\n      <td>128174</td>\n      <td>159860</td>\n    </tr>\n    <tr>\n      <th>17</th>\n      <td>78852</td>\n      <td>119157</td>\n    </tr>\n    <tr>\n      <th>18</th>\n      <td>9404</td>\n      <td>11299</td>\n    </tr>\n    <tr>\n      <th>19</th>\n      <td>192902</td>\n      <td>263983</td>\n    </tr>\n    <tr>\n      <th>2</th>\n      <td>89335</td>\n      <td>123218</td>\n    </tr>\n    <tr>\n      <th>20</th>\n      <td>29428</td>\n      <td>39634</td>\n    </tr>\n    <tr>\n      <th>21</th>\n      <td>10144</td>\n      <td>17049</td>\n    </tr>\n    <tr>\n      <th>22</th>\n      <td>22834</td>\n      <td>39720</td>\n    </tr>\n    <tr>\n      <th>3</th>\n      <td>86036</td>\n      <td>104278</td>\n    </tr>\n    <tr>\n      <th>4</th>\n      <td>28101</td>\n      <td>39364</td>\n    </tr>\n    <tr>\n      <th>5</th>\n      <td>70914</td>\n      <td>85318</td>\n    </tr>\n    <tr>\n      <th>6</th>\n      <td>136842</td>\n      <td>785882</td>\n    </tr>\n    <tr>\n      <th>7</th>\n      <td>74873</td>\n      <td>141763</td>\n    </tr>\n    <tr>\n      <th>8</th>\n      <td>62071</td>\n      <td>84517</td>\n    </tr>\n    <tr>\n      <th>9</th>\n      <td>30747</td>\n      <td>42472</td>\n    </tr>\n  </tbody>\n</table>\n</div>"
     },
     "execution_count": 7,
     "metadata": {},
     "output_type": "execute_result"
    },
    {
     "data": {
      "text/plain": "<Figure size 864x360 with 2 Axes>",
      "image/png": "[encoded data removed]"
     },
     "metadata": {
      "needs_background": "light"
     },
     "output_type": "display_data"
    }
   ],
   "source": [
    "from demuxalot import utils\n",
    "utils.summarize_counted_SNPs(counts)"
   ],
   "metadata": {
    "collapsed": false,
    "pycharm": {
     "name": "#%%\n"
    }
   }
  },
  {
   "cell_type": "markdown",
   "source": [
    "## Enrichment with new SNPs"
   ],
   "metadata": {
    "collapsed": false,
    "pycharm": {
     "name": "#%% md\n"
    }
   }
  },
  {
   "cell_type": "code",
   "execution_count": 8,
   "outputs": [
    {
     "name": "stderr",
     "output_type": "stream",
     "text": [
      "[Parallel(n_jobs=-1)]: Using backend LokyBackend with 32 concurrent workers.\n",
      "[Parallel(n_jobs=-1)]: Done   2 out of  22 | elapsed:   16.6s remaining:  2.8min\n",
      "[Parallel(n_jobs=-1)]: Done   5 out of  22 | elapsed:   40.5s remaining:  2.3min\n",
      "[Parallel(n_jobs=-1)]: Done   8 out of  22 | elapsed:   49.8s remaining:  1.5min\n",
      "[Parallel(n_jobs=-1)]: Done  11 out of  22 | elapsed:  1.2min remaining:  1.2min\n",
      "[Parallel(n_jobs=-1)]: Done  14 out of  22 | elapsed:  1.4min remaining:   47.1s\n",
      "[Parallel(n_jobs=-1)]: Done  17 out of  22 | elapsed:  1.5min remaining:   25.7s\n",
      "[Parallel(n_jobs=-1)]: Done  20 out of  22 | elapsed:  1.9min remaining:   11.6s\n",
      "[Parallel(n_jobs=-1)]: Done  22 out of  22 | elapsed:  2.9min finished\n"
     ]
    },
    {
     "name": "stdout",
     "output_type": "stream",
     "text": [
      "During inference of SNPs for 101 will use 1 barcodes\n",
      "During inference of SNPs for 1012 will use 0 barcodes\n",
      "During inference of SNPs for 1015 will use 0 barcodes\n",
      "During inference of SNPs for 1016 will use 0 barcodes\n",
      "During inference of SNPs for 1026 will use 0 barcodes\n",
      "During inference of SNPs for 1039 will use 0 barcodes\n",
      "During inference of SNPs for 1043 will use 807 barcodes\n",
      "During inference of SNPs for 1066 will use 0 barcodes\n",
      "During inference of SNPs for 107 will use 0 barcodes\n",
      "During inference of SNPs for 1079 will use 775 barcodes\n",
      "During inference of SNPs for 1085 will use 808 barcodes\n",
      "During inference of SNPs for 11 will use 0 barcodes\n",
      "During inference of SNPs for 1112 will use 0 barcodes\n",
      "During inference of SNPs for 1154 will use 805 barcodes\n",
      "During inference of SNPs for 12 will use 0 barcodes\n",
      "During inference of SNPs for 1244 will use 0 barcodes\n",
      "During inference of SNPs for 1249 will use 699 barcodes\n",
      "During inference of SNPs for 1256 will use 0 barcodes\n",
      "During inference of SNPs for 1286 will use 0 barcodes\n",
      "During inference of SNPs for 13 will use 0 barcodes\n",
      "During inference of SNPs for 1311 will use 1 barcodes\n",
      "During inference of SNPs for 1442 will use 0 barcodes\n",
      "During inference of SNPs for 1453 will use 0 barcodes\n",
      "During inference of SNPs for 1488 will use 0 barcodes\n",
      "During inference of SNPs for 1493 will use 660 barcodes\n",
      "During inference of SNPs for 15 will use 0 barcodes\n",
      "During inference of SNPs for 1511 will use 890 barcodes\n",
      "During inference of SNPs for 1598 will use 686 barcodes\n",
      "During inference of SNPs for 16 will use 0 barcodes\n",
      "During inference of SNPs for 18 will use 0 barcodes\n",
      "During inference of SNPs for 21 will use 0 barcodes\n",
      "During inference of SNPs for 6 will use 0 barcodes\n"
     ]
    },
    {
     "name": "stderr",
     "output_type": "stream",
     "text": [
      "[Parallel(n_jobs=-1)]: Using backend LokyBackend with 32 concurrent workers.\n",
      "[Parallel(n_jobs=-1)]: Done  33 out of 382 | elapsed:   22.4s remaining:  4.0min\n",
      "[Parallel(n_jobs=-1)]: Done  68 out of 382 | elapsed:   37.1s remaining:  2.9min\n",
      "[Parallel(n_jobs=-1)]: Done 103 out of 382 | elapsed:  1.1min remaining:  2.9min\n",
      "[Parallel(n_jobs=-1)]: Done 138 out of 382 | elapsed:  1.6min remaining:  2.9min\n",
      "[Parallel(n_jobs=-1)]: Done 173 out of 382 | elapsed:  2.0min remaining:  2.4min\n",
      "[Parallel(n_jobs=-1)]: Done 208 out of 382 | elapsed:  2.2min remaining:  1.8min\n",
      "[Parallel(n_jobs=-1)]: Done 243 out of 382 | elapsed:  2.5min remaining:  1.4min\n",
      "[Parallel(n_jobs=-1)]: Done 278 out of 382 | elapsed:  2.8min remaining:  1.1min\n",
      "[Parallel(n_jobs=-1)]: Done 313 out of 382 | elapsed:  2.9min remaining:   38.1s\n",
      "[Parallel(n_jobs=-1)]: Done 348 out of 382 | elapsed:  2.9min remaining:   16.9s\n",
      "[Parallel(n_jobs=-1)]: Done 382 out of 382 | elapsed:  5.4min finished\n"
     ]
    }
   ],
   "source": [
    "new_snps_filename = 'new_snps_single_file.betas'\n",
    "_ = detect_snps_positions(\n",
    "    bamfile_location=str(bamfile_location),\n",
    "    genotypes=genotypes,\n",
    "    barcode_handler=handler,\n",
    "    minimum_coverage=200,\n",
    "    minimum_alternative_coverage=10,\n",
    "    result_beta_prior_filename=new_snps_filename,\n",
    "    n_best_snps_per_donor=100,\n",
    ")"
   ],
   "metadata": {
    "collapsed": false,
    "pycharm": {
     "name": "#%%\n"
    }
   }
  },
  {
   "cell_type": "code",
   "execution_count": 9,
   "outputs": [
    {
     "name": "stdout",
     "output_type": "stream",
     "text": [
      "Provided prior information about genotypes: []\n",
      "No information for genotypes: ['101', '1012', '1015', '1016', '1026', '1039', '1043', '1066', '107', '1079', '1085', '11', '1112', '1154', '12', '1244', '1249', '1256', '1286', '13', '1311', '1442', '1453', '1488', '1493', '15', '1511', '1598', '16', '18', '21', '6']\n"
     ]
    }
   ],
   "source": [
    "genotypes_with_new_snps = genotypes.clone()\n",
    "# adding new positions to genotypes\n",
    "# since there is indeed only positions, no any genotype-specific information\n",
    "genotypes_with_new_snps.add_prior_betas(new_snps_filename, prior_strength=1)"
   ],
   "metadata": {
    "collapsed": false,
    "pycharm": {
     "name": "#%%\n"
    }
   }
  },
  {
   "cell_type": "code",
   "execution_count": 10,
   "outputs": [
    {
     "name": "stderr",
     "output_type": "stream",
     "text": [
      "[Parallel(n_jobs=-1)]: Using backend LokyBackend with 32 concurrent workers.\n",
      "[Parallel(n_jobs=-1)]: Done   1 out of  27 | elapsed:    0.3s remaining:    8.2s\n",
      "[Parallel(n_jobs=-1)]: Done   4 out of  27 | elapsed:    4.7s remaining:   27.2s\n",
      "[Parallel(n_jobs=-1)]: Done   7 out of  27 | elapsed:   40.2s remaining:  1.9min\n",
      "[Parallel(n_jobs=-1)]: Done  10 out of  27 | elapsed:   42.8s remaining:  1.2min\n",
      "[Parallel(n_jobs=-1)]: Done  13 out of  27 | elapsed:   49.3s remaining:   53.1s\n",
      "[Parallel(n_jobs=-1)]: Done  16 out of  27 | elapsed:  1.1min remaining:   47.4s\n",
      "[Parallel(n_jobs=-1)]: Done  19 out of  27 | elapsed:  1.3min remaining:   33.8s\n",
      "[Parallel(n_jobs=-1)]: Done  22 out of  27 | elapsed:  1.7min remaining:   22.7s\n",
      "[Parallel(n_jobs=-1)]: Done  25 out of  27 | elapsed:  2.2min remaining:   10.5s\n",
      "[Parallel(n_jobs=-1)]: Done  27 out of  27 | elapsed:  3.2min finished\n"
     ]
    }
   ],
   "source": [
    "# counting with new SNPs\n",
    "counts_enriched = count_snps(\n",
    "    bamfile_location=str(bamfile_location),\n",
    "    chromosome2positions=genotypes_with_new_snps.get_chromosome2positions(),\n",
    "    barcode_handler=handler,\n",
    ")"
   ],
   "metadata": {
    "collapsed": false,
    "pycharm": {
     "name": "#%%\n"
    }
   }
  },
  {
   "cell_type": "code",
   "execution_count": 11,
   "outputs": [],
   "source": [
    "learnt_enriched_genotypes, probs_learning_new_snps = Demultiplexer.learn_genotypes(\n",
    "    counts_enriched,\n",
    "    genotypes_with_new_snps,\n",
    "    barcode_handler=handler,\n",
    "    doublet_prior=0.25,\n",
    ")"
   ],
   "metadata": {
    "collapsed": false,
    "pycharm": {
     "name": "#%%\n"
    }
   }
  },
  {
   "cell_type": "code",
   "execution_count": 12,
   "outputs": [
    {
     "data": {
      "text/plain": "                           101          1012           1015          1016  \\\nAAACATACCTAGAC-1  3.888159e-98  3.717868e-82  2.461841e-101  3.748476e-93   \nAAACATACGGTAGG-1  2.281819e-26  2.916894e-25   1.426697e-37  4.525946e-23   \nAAACATTGCGGAGA-1  4.270523e-67  1.352125e-43   2.734072e-50  7.813821e-40   \nAAACATTGTGGTCA-1  2.767751e-31  1.173975e-26   1.392868e-28  1.020676e-21   \nAAACCGTGAAAAGC-1  2.455680e-79  1.640004e-79   3.935972e-76  5.996760e-59   \n\n                          1026          1039          1043          1066  \\\nAAACATACCTAGAC-1  4.003609e-96  1.501398e-76  2.097479e-60  1.722902e-77   \nAAACATACGGTAGG-1  9.181295e-28  1.050273e-30  9.997763e-01  9.162934e-30   \nAAACATTGCGGAGA-1  6.296495e-50  1.605907e-34  1.588736e-32  1.757896e-30   \nAAACATTGTGGTCA-1  1.228116e-32  4.986659e-34  6.319620e-27  8.714783e-26   \nAAACCGTGAAAAGC-1  1.984201e-74  7.151717e-86  1.113616e-60  9.404742e-68   \n\n                           107          1079  ...       1598+16       1598+18  \\\nAAACATACCTAGAC-1  6.319907e-77  3.893139e-85  ...  3.936501e-18  7.398986e-21   \nAAACATACGGTAGG-1  3.030367e-29  4.232103e-28  ...  1.845811e-19  2.810496e-18   \nAAACATTGCGGAGA-1  3.467128e-30  3.765737e-44  ...  2.630225e-27  8.148189e-31   \nAAACATTGTGGTCA-1  3.128611e-31  9.283351e-19  ...  2.249940e-20  1.456649e-16   \nAAACCGTGAAAAGC-1  1.152749e-75  1.293347e-69  ...  3.161618e-18  2.689764e-15   \n\n                       1598+21        1598+6         16+18         16+21  \\\nAAACATACCTAGAC-1  1.937530e-18  4.280612e-21  2.479855e-63  2.547035e-58   \nAAACATACGGTAGG-1  3.419569e-19  2.971743e-20  3.760649e-21  7.135547e-23   \nAAACATTGCGGAGA-1  9.821121e-26  2.468318e-32  1.028360e-29  6.988894e-29   \nAAACATTGTGGTCA-1  1.557785e-19  2.051788e-19  4.896253e-23  8.806553e-28   \nAAACCGTGAAAAGC-1  1.271334e-17  3.025063e-16  3.941435e-55  1.707055e-58   \n\n                          16+6         18+21          18+6          21+6  \nAAACATACCTAGAC-1  8.510514e-65  2.968032e-61  2.253209e-75  1.445274e-60  \nAAACATACGGTAGG-1  1.094877e-22  2.209969e-21  2.432102e-21  2.465598e-23  \nAAACATTGCGGAGA-1  6.237978e-32  6.715384e-29  4.053924e-37  6.442061e-29  \nAAACATTGTGGTCA-1  7.757248e-23  1.984553e-23  7.500296e-19  9.523677e-27  \nAAACCGTGAAAAGC-1  5.443785e-53  1.112374e-54  4.783338e-48  4.694526e-53  \n\n[5 rows x 528 columns]",
      "text/html": "<div>\n<style scoped>\n    .dataframe tbody tr th:only-of-type {\n        vertical-align: middle;\n    }\n\n    .dataframe tbody tr th {\n        vertical-align: top;\n    }\n\n    .dataframe thead th {\n        text-align: right;\n    }\n</style>\n<table border=\"1\" class=\"dataframe\">\n  <thead>\n    <tr style=\"text-align: right;\">\n      <th></th>\n      <th>101</th>\n      <th>1012</th>\n      <th>1015</th>\n      <th>1016</th>\n      <th>1026</th>\n      <th>1039</th>\n      <th>1043</th>\n      <th>1066</th>\n      <th>107</th>\n      <th>1079</th>\n      <th>...</th>\n      <th>1598+16</th>\n      <th>1598+18</th>\n      <th>1598+21</th>\n      <th>1598+6</th>\n      <th>16+18</th>\n      <th>16+21</th>\n      <th>16+6</th>\n      <th>18+21</th>\n      <th>18+6</th>\n      <th>21+6</th>\n    </tr>\n  </thead>\n  <tbody>\n    <tr>\n      <th>AAACATACCTAGAC-1</th>\n      <td>3.888159e-98</td>\n      <td>3.717868e-82</td>\n      <td>2.461841e-101</td>\n      <td>3.748476e-93</td>\n      <td>4.003609e-96</td>\n      <td>1.501398e-76</td>\n      <td>2.097479e-60</td>\n      <td>1.722902e-77</td>\n      <td>6.319907e-77</td>\n      <td>3.893139e-85</td>\n      <td>...</td>\n      <td>3.936501e-18</td>\n      <td>7.398986e-21</td>\n      <td>1.937530e-18</td>\n      <td>4.280612e-21</td>\n      <td>2.479855e-63</td>\n      <td>2.547035e-58</td>\n      <td>8.510514e-65</td>\n      <td>2.968032e-61</td>\n      <td>2.253209e-75</td>\n      <td>1.445274e-60</td>\n    </tr>\n    <tr>\n      <th>AAACATACGGTAGG-1</th>\n      <td>2.281819e-26</td>\n      <td>2.916894e-25</td>\n      <td>1.426697e-37</td>\n      <td>4.525946e-23</td>\n      <td>9.181295e-28</td>\n      <td>1.050273e-30</td>\n      <td>9.997763e-01</td>\n      <td>9.162934e-30</td>\n      <td>3.030367e-29</td>\n      <td>4.232103e-28</td>\n      <td>...</td>\n      <td>1.845811e-19</td>\n      <td>2.810496e-18</td>\n      <td>3.419569e-19</td>\n      <td>2.971743e-20</td>\n      <td>3.760649e-21</td>\n      <td>7.135547e-23</td>\n      <td>1.094877e-22</td>\n      <td>2.209969e-21</td>\n      <td>2.432102e-21</td>\n      <td>2.465598e-23</td>\n    </tr>\n    <tr>\n      <th>AAACATTGCGGAGA-1</th>\n      <td>4.270523e-67</td>\n      <td>1.352125e-43</td>\n      <td>2.734072e-50</td>\n      <td>7.813821e-40</td>\n      <td>6.296495e-50</td>\n      <td>1.605907e-34</td>\n      <td>1.588736e-32</td>\n      <td>1.757896e-30</td>\n      <td>3.467128e-30</td>\n      <td>3.765737e-44</td>\n      <td>...</td>\n      <td>2.630225e-27</td>\n      <td>8.148189e-31</td>\n      <td>9.821121e-26</td>\n      <td>2.468318e-32</td>\n      <td>1.028360e-29</td>\n      <td>6.988894e-29</td>\n      <td>6.237978e-32</td>\n      <td>6.715384e-29</td>\n      <td>4.053924e-37</td>\n      <td>6.442061e-29</td>\n    </tr>\n    <tr>\n      <th>AAACATTGTGGTCA-1</th>\n      <td>2.767751e-31</td>\n      <td>1.173975e-26</td>\n      <td>1.392868e-28</td>\n      <td>1.020676e-21</td>\n      <td>1.228116e-32</td>\n      <td>4.986659e-34</td>\n      <td>6.319620e-27</td>\n      <td>8.714783e-26</td>\n      <td>3.128611e-31</td>\n      <td>9.283351e-19</td>\n      <td>...</td>\n      <td>2.249940e-20</td>\n      <td>1.456649e-16</td>\n      <td>1.557785e-19</td>\n      <td>2.051788e-19</td>\n      <td>4.896253e-23</td>\n      <td>8.806553e-28</td>\n      <td>7.757248e-23</td>\n      <td>1.984553e-23</td>\n      <td>7.500296e-19</td>\n      <td>9.523677e-27</td>\n    </tr>\n    <tr>\n      <th>AAACCGTGAAAAGC-1</th>\n      <td>2.455680e-79</td>\n      <td>1.640004e-79</td>\n      <td>3.935972e-76</td>\n      <td>5.996760e-59</td>\n      <td>1.984201e-74</td>\n      <td>7.151717e-86</td>\n      <td>1.113616e-60</td>\n      <td>9.404742e-68</td>\n      <td>1.152749e-75</td>\n      <td>1.293347e-69</td>\n      <td>...</td>\n      <td>3.161618e-18</td>\n      <td>2.689764e-15</td>\n      <td>1.271334e-17</td>\n      <td>3.025063e-16</td>\n      <td>3.941435e-55</td>\n      <td>1.707055e-58</td>\n      <td>5.443785e-53</td>\n      <td>1.112374e-54</td>\n      <td>4.783338e-48</td>\n      <td>4.694526e-53</td>\n    </tr>\n  </tbody>\n</table>\n<p>5 rows × 528 columns</p>\n</div>"
     },
     "execution_count": 12,
     "metadata": {},
     "output_type": "execute_result"
    }
   ],
   "source": [
    "probs_learning_new_snps.head()"
   ],
   "metadata": {
    "collapsed": false,
    "pycharm": {
     "name": "#%%\n"
    }
   }
  },
  {
   "cell_type": "code",
   "execution_count": 13,
   "outputs": [
    {
     "data": {
      "text/plain": "                            101           1012           1015           1016  \\\nAAACATACCTAGAC-1   3.888159e-98   3.717868e-82  2.461841e-101   3.748476e-93   \nAAACATACGGTAGG-1   2.281819e-26   2.916894e-25   1.426697e-37   4.525946e-23   \nAAACATTGCGGAGA-1   4.270523e-67   1.352125e-43   2.734072e-50   7.813821e-40   \nAAACATTGTGGTCA-1   2.767751e-31   1.173975e-26   1.392868e-28   1.020676e-21   \nAAACCGTGAAAAGC-1   2.455680e-79   1.640004e-79   3.935972e-76   5.996760e-59   \n...                         ...            ...            ...            ...   \nTTTGACTGTGCCCT-1   1.710241e-34   6.395893e-48   1.018957e-56   7.608605e-43   \nTTTGCATGAGCATC-1   1.157684e-79   1.060042e-65   9.649746e-62   5.672383e-49   \nTTTGCATGCATTGG-1   1.640273e-59   2.416249e-57   1.750927e-78   1.185723e-56   \nTTTGCATGTATCGG-1   7.675805e-79   7.493966e-68   2.655017e-65   1.636796e-50   \nTTTGCATGTTTCTG-1  6.102131e-178  4.808329e-168  3.223052e-175  1.643994e-152   \n\n                           1026           1039           1043           1066  \\\nAAACATACCTAGAC-1   4.003609e-96   1.501398e-76   2.097479e-60   1.722902e-77   \nAAACATACGGTAGG-1   9.181295e-28   1.050273e-30   9.997763e-01   9.162934e-30   \nAAACATTGCGGAGA-1   6.296495e-50   1.605907e-34   1.588736e-32   1.757896e-30   \nAAACATTGTGGTCA-1   1.228116e-32   4.986659e-34   6.319620e-27   8.714783e-26   \nAAACCGTGAAAAGC-1   1.984201e-74   7.151717e-86   1.113616e-60   9.404742e-68   \n...                         ...            ...            ...            ...   \nTTTGACTGTGCCCT-1   1.371616e-42   1.396826e-44   3.620965e-40   3.521343e-48   \nTTTGCATGAGCATC-1   8.506900e-67   8.341873e-51   9.258276e-35   8.254422e-64   \nTTTGCATGCATTGG-1   2.439743e-69   4.534138e-78   3.227681e-56   4.853931e-66   \nTTTGCATGTATCGG-1   6.392050e-70   1.215964e-79   9.298261e-45   2.517721e-64   \nTTTGCATGTTTCTG-1  1.818069e-160  1.309933e-173  3.106066e-141  9.178896e-169   \n\n                            107           1079  ...        1598+16  \\\nAAACATACCTAGAC-1   6.319907e-77   3.893139e-85  ...   3.936501e-18   \nAAACATACGGTAGG-1   3.030367e-29   4.232103e-28  ...   1.845811e-19   \nAAACATTGCGGAGA-1   3.467128e-30   3.765737e-44  ...   2.630225e-27   \nAAACATTGTGGTCA-1   3.128611e-31   9.283351e-19  ...   2.249940e-20   \nAAACCGTGAAAAGC-1   1.152749e-75   1.293347e-69  ...   3.161618e-18   \n...                         ...            ...  ...            ...   \nTTTGACTGTGCCCT-1   3.360324e-56   1.336041e-39  ...   1.956853e-43   \nTTTGCATGAGCATC-1   7.253063e-50   2.753462e-53  ...   5.859432e-28   \nTTTGCATGCATTGG-1   6.416474e-85   2.411987e-62  ...   2.023767e-47   \nTTTGCATGTATCGG-1   5.768726e-65   2.315997e-42  ...   1.730917e-44   \nTTTGCATGTTTCTG-1  1.789954e-175  5.794355e-131  ...  4.658257e-102   \n\n                        1598+18        1598+21         1598+6          16+18  \\\nAAACATACCTAGAC-1   7.398986e-21   1.937530e-18   4.280612e-21   2.479855e-63   \nAAACATACGGTAGG-1   2.810496e-18   3.419569e-19   2.971743e-20   3.760649e-21   \nAAACATTGCGGAGA-1   8.148189e-31   9.821121e-26   2.468318e-32   1.028360e-29   \nAAACATTGTGGTCA-1   1.456649e-16   1.557785e-19   2.051788e-19   4.896253e-23   \nAAACCGTGAAAAGC-1   2.689764e-15   1.271334e-17   3.025063e-16   3.941435e-55   \n...                         ...            ...            ...            ...   \nTTTGACTGTGCCCT-1   4.832765e-32   1.044311e-33   2.537423e-28   1.354922e-45   \nTTTGCATGAGCATC-1   9.637313e-26   1.117642e-27   1.519836e-31   1.209223e-29   \nTTTGCATGCATTGG-1   1.334936e-39   4.930783e-46   1.529411e-40   1.600904e-48   \nTTTGCATGTATCGG-1   4.934915e-46   1.503782e-44   5.303663e-40   3.042135e-52   \nTTTGCATGTTTCTG-1  1.747747e-103  4.314460e-108  1.460179e-103  3.554534e-115   \n\n                          16+21           16+6          18+21           18+6  \\\nAAACATACCTAGAC-1   2.547035e-58   8.510514e-65   2.968032e-61   2.253209e-75   \nAAACATACGGTAGG-1   7.135547e-23   1.094877e-22   2.209969e-21   2.432102e-21   \nAAACATTGCGGAGA-1   6.988894e-29   6.237978e-32   6.715384e-29   4.053924e-37   \nAAACATTGTGGTCA-1   8.806553e-28   7.757248e-23   1.984553e-23   7.500296e-19   \nAAACCGTGAAAAGC-1   1.707055e-58   5.443785e-53   1.112374e-54   4.783338e-48   \n...                         ...            ...            ...            ...   \nTTTGACTGTGCCCT-1   4.419808e-43   2.646318e-40   2.619026e-38   4.192279e-44   \nTTTGCATGAGCATC-1   2.307187e-34   1.006104e-39   1.249442e-31   2.221520e-30   \nTTTGCATGCATTGG-1   2.690684e-58   4.095727e-52   1.925362e-44   4.620266e-43   \nTTTGCATGTATCGG-1   4.434370e-48   2.527195e-41   6.187892e-50   1.720053e-45   \nTTTGCATGTTTCTG-1  1.360731e-114  2.302635e-112  1.061886e-116  1.371630e-113   \n\n                           21+6  \nAAACATACCTAGAC-1   1.445274e-60  \nAAACATACGGTAGG-1   2.465598e-23  \nAAACATTGCGGAGA-1   6.442061e-29  \nAAACATTGTGGTCA-1   9.523677e-27  \nAAACCGTGAAAAGC-1   4.694526e-53  \n...                         ...  \nTTTGACTGTGCCCT-1   5.632716e-35  \nTTTGCATGAGCATC-1   1.009493e-35  \nTTTGCATGCATTGG-1   4.064930e-51  \nTTTGCATGTATCGG-1   1.715101e-44  \nTTTGCATGTTTCTG-1  1.834711e-106  \n\n[6108 rows x 528 columns]",
      "text/html": "<div>\n<style scoped>\n    .dataframe tbody tr th:only-of-type {\n        vertical-align: middle;\n    }\n\n    .dataframe tbody tr th {\n        vertical-align: top;\n    }\n\n    .dataframe thead th {\n        text-align: right;\n    }\n</style>\n<table border=\"1\" class=\"dataframe\">\n  <thead>\n    <tr style=\"text-align: right;\">\n      <th></th>\n      <th>101</th>\n      <th>1012</th>\n      <th>1015</th>\n      <th>1016</th>\n      <th>1026</th>\n      <th>1039</th>\n      <th>1043</th>\n      <th>1066</th>\n      <th>107</th>\n      <th>1079</th>\n      <th>...</th>\n      <th>1598+16</th>\n      <th>1598+18</th>\n      <th>1598+21</th>\n      <th>1598+6</th>\n      <th>16+18</th>\n      <th>16+21</th>\n      <th>16+6</th>\n      <th>18+21</th>\n      <th>18+6</th>\n      <th>21+6</th>\n    </tr>\n  </thead>\n  <tbody>\n    <tr>\n      <th>AAACATACCTAGAC-1</th>\n      <td>3.888159e-98</td>\n      <td>3.717868e-82</td>\n      <td>2.461841e-101</td>\n      <td>3.748476e-93</td>\n      <td>4.003609e-96</td>\n      <td>1.501398e-76</td>\n      <td>2.097479e-60</td>\n      <td>1.722902e-77</td>\n      <td>6.319907e-77</td>\n      <td>3.893139e-85</td>\n      <td>...</td>\n      <td>3.936501e-18</td>\n      <td>7.398986e-21</td>\n      <td>1.937530e-18</td>\n      <td>4.280612e-21</td>\n      <td>2.479855e-63</td>\n      <td>2.547035e-58</td>\n      <td>8.510514e-65</td>\n      <td>2.968032e-61</td>\n      <td>2.253209e-75</td>\n      <td>1.445274e-60</td>\n    </tr>\n    <tr>\n      <th>AAACATACGGTAGG-1</th>\n      <td>2.281819e-26</td>\n      <td>2.916894e-25</td>\n      <td>1.426697e-37</td>\n      <td>4.525946e-23</td>\n      <td>9.181295e-28</td>\n      <td>1.050273e-30</td>\n      <td>9.997763e-01</td>\n      <td>9.162934e-30</td>\n      <td>3.030367e-29</td>\n      <td>4.232103e-28</td>\n      <td>...</td>\n      <td>1.845811e-19</td>\n      <td>2.810496e-18</td>\n      <td>3.419569e-19</td>\n      <td>2.971743e-20</td>\n      <td>3.760649e-21</td>\n      <td>7.135547e-23</td>\n      <td>1.094877e-22</td>\n      <td>2.209969e-21</td>\n      <td>2.432102e-21</td>\n      <td>2.465598e-23</td>\n    </tr>\n    <tr>\n      <th>AAACATTGCGGAGA-1</th>\n      <td>4.270523e-67</td>\n      <td>1.352125e-43</td>\n      <td>2.734072e-50</td>\n      <td>7.813821e-40</td>\n      <td>6.296495e-50</td>\n      <td>1.605907e-34</td>\n      <td>1.588736e-32</td>\n      <td>1.757896e-30</td>\n      <td>3.467128e-30</td>\n      <td>3.765737e-44</td>\n      <td>...</td>\n      <td>2.630225e-27</td>\n      <td>8.148189e-31</td>\n      <td>9.821121e-26</td>\n      <td>2.468318e-32</td>\n      <td>1.028360e-29</td>\n      <td>6.988894e-29</td>\n      <td>6.237978e-32</td>\n      <td>6.715384e-29</td>\n      <td>4.053924e-37</td>\n      <td>6.442061e-29</td>\n    </tr>\n    <tr>\n      <th>AAACATTGTGGTCA-1</th>\n      <td>2.767751e-31</td>\n      <td>1.173975e-26</td>\n      <td>1.392868e-28</td>\n      <td>1.020676e-21</td>\n      <td>1.228116e-32</td>\n      <td>4.986659e-34</td>\n      <td>6.319620e-27</td>\n      <td>8.714783e-26</td>\n      <td>3.128611e-31</td>\n      <td>9.283351e-19</td>\n      <td>...</td>\n      <td>2.249940e-20</td>\n      <td>1.456649e-16</td>\n      <td>1.557785e-19</td>\n      <td>2.051788e-19</td>\n      <td>4.896253e-23</td>\n      <td>8.806553e-28</td>\n      <td>7.757248e-23</td>\n      <td>1.984553e-23</td>\n      <td>7.500296e-19</td>\n      <td>9.523677e-27</td>\n    </tr>\n    <tr>\n      <th>AAACCGTGAAAAGC-1</th>\n      <td>2.455680e-79</td>\n      <td>1.640004e-79</td>\n      <td>3.935972e-76</td>\n      <td>5.996760e-59</td>\n      <td>1.984201e-74</td>\n      <td>7.151717e-86</td>\n      <td>1.113616e-60</td>\n      <td>9.404742e-68</td>\n      <td>1.152749e-75</td>\n      <td>1.293347e-69</td>\n      <td>...</td>\n      <td>3.161618e-18</td>\n      <td>2.689764e-15</td>\n      <td>1.271334e-17</td>\n      <td>3.025063e-16</td>\n      <td>3.941435e-55</td>\n      <td>1.707055e-58</td>\n      <td>5.443785e-53</td>\n      <td>1.112374e-54</td>\n      <td>4.783338e-48</td>\n      <td>4.694526e-53</td>\n    </tr>\n    <tr>\n      <th>...</th>\n      <td>...</td>\n      <td>...</td>\n      <td>...</td>\n      <td>...</td>\n      <td>...</td>\n      <td>...</td>\n      <td>...</td>\n      <td>...</td>\n      <td>...</td>\n      <td>...</td>\n      <td>...</td>\n      <td>...</td>\n      <td>...</td>\n      <td>...</td>\n      <td>...</td>\n      <td>...</td>\n      <td>...</td>\n      <td>...</td>\n      <td>...</td>\n      <td>...</td>\n      <td>...</td>\n    </tr>\n    <tr>\n      <th>TTTGACTGTGCCCT-1</th>\n      <td>1.710241e-34</td>\n      <td>6.395893e-48</td>\n      <td>1.018957e-56</td>\n      <td>7.608605e-43</td>\n      <td>1.371616e-42</td>\n      <td>1.396826e-44</td>\n      <td>3.620965e-40</td>\n      <td>3.521343e-48</td>\n      <td>3.360324e-56</td>\n      <td>1.336041e-39</td>\n      <td>...</td>\n      <td>1.956853e-43</td>\n      <td>4.832765e-32</td>\n      <td>1.044311e-33</td>\n      <td>2.537423e-28</td>\n      <td>1.354922e-45</td>\n      <td>4.419808e-43</td>\n      <td>2.646318e-40</td>\n      <td>2.619026e-38</td>\n      <td>4.192279e-44</td>\n      <td>5.632716e-35</td>\n    </tr>\n    <tr>\n      <th>TTTGCATGAGCATC-1</th>\n      <td>1.157684e-79</td>\n      <td>1.060042e-65</td>\n      <td>9.649746e-62</td>\n      <td>5.672383e-49</td>\n      <td>8.506900e-67</td>\n      <td>8.341873e-51</td>\n      <td>9.258276e-35</td>\n      <td>8.254422e-64</td>\n      <td>7.253063e-50</td>\n      <td>2.753462e-53</td>\n      <td>...</td>\n      <td>5.859432e-28</td>\n      <td>9.637313e-26</td>\n      <td>1.117642e-27</td>\n      <td>1.519836e-31</td>\n      <td>1.209223e-29</td>\n      <td>2.307187e-34</td>\n      <td>1.006104e-39</td>\n      <td>1.249442e-31</td>\n      <td>2.221520e-30</td>\n      <td>1.009493e-35</td>\n    </tr>\n    <tr>\n      <th>TTTGCATGCATTGG-1</th>\n      <td>1.640273e-59</td>\n      <td>2.416249e-57</td>\n      <td>1.750927e-78</td>\n      <td>1.185723e-56</td>\n      <td>2.439743e-69</td>\n      <td>4.534138e-78</td>\n      <td>3.227681e-56</td>\n      <td>4.853931e-66</td>\n      <td>6.416474e-85</td>\n      <td>2.411987e-62</td>\n      <td>...</td>\n      <td>2.023767e-47</td>\n      <td>1.334936e-39</td>\n      <td>4.930783e-46</td>\n      <td>1.529411e-40</td>\n      <td>1.600904e-48</td>\n      <td>2.690684e-58</td>\n      <td>4.095727e-52</td>\n      <td>1.925362e-44</td>\n      <td>4.620266e-43</td>\n      <td>4.064930e-51</td>\n    </tr>\n    <tr>\n      <th>TTTGCATGTATCGG-1</th>\n      <td>7.675805e-79</td>\n      <td>7.493966e-68</td>\n      <td>2.655017e-65</td>\n      <td>1.636796e-50</td>\n      <td>6.392050e-70</td>\n      <td>1.215964e-79</td>\n      <td>9.298261e-45</td>\n      <td>2.517721e-64</td>\n      <td>5.768726e-65</td>\n      <td>2.315997e-42</td>\n      <td>...</td>\n      <td>1.730917e-44</td>\n      <td>4.934915e-46</td>\n      <td>1.503782e-44</td>\n      <td>5.303663e-40</td>\n      <td>3.042135e-52</td>\n      <td>4.434370e-48</td>\n      <td>2.527195e-41</td>\n      <td>6.187892e-50</td>\n      <td>1.720053e-45</td>\n      <td>1.715101e-44</td>\n    </tr>\n    <tr>\n      <th>TTTGCATGTTTCTG-1</th>\n      <td>6.102131e-178</td>\n      <td>4.808329e-168</td>\n      <td>3.223052e-175</td>\n      <td>1.643994e-152</td>\n      <td>1.818069e-160</td>\n      <td>1.309933e-173</td>\n      <td>3.106066e-141</td>\n      <td>9.178896e-169</td>\n      <td>1.789954e-175</td>\n      <td>5.794355e-131</td>\n      <td>...</td>\n      <td>4.658257e-102</td>\n      <td>1.747747e-103</td>\n      <td>4.314460e-108</td>\n      <td>1.460179e-103</td>\n      <td>3.554534e-115</td>\n      <td>1.360731e-114</td>\n      <td>2.302635e-112</td>\n      <td>1.061886e-116</td>\n      <td>1.371630e-113</td>\n      <td>1.834711e-106</td>\n    </tr>\n  </tbody>\n</table>\n<p>6108 rows × 528 columns</p>\n</div>"
     },
     "execution_count": 13,
     "metadata": {},
     "output_type": "execute_result"
    }
   ],
   "source": [
    "# if you need only assignments:\n",
    "probs_learning_new_snps[probs_learning_new_snps.max(axis=1).gt(0.9)]\n",
    "\n",
    "# note that threshold should be adjusted according to 1) your confidence in data 2) how pure your sample should be for analysis.\n",
    "# Threshold of 0.9 is for a vast majority of use-cases"
   ],
   "metadata": {
    "collapsed": false,
    "pycharm": {
     "name": "#%%\n"
    }
   }
  },
  {
   "cell_type": "markdown",
   "source": [
    "## For comparison: if we skipped SNP detection, pipeline would look like this:"
   ],
   "metadata": {
    "collapsed": false,
    "pycharm": {
     "name": "#%% md\n"
    }
   }
  },
  {
   "cell_type": "code",
   "execution_count": 14,
   "outputs": [],
   "source": [
    "_posterior_logits, probs_without_learning = Demultiplexer.predict_posteriors(\n",
    "    counts,\n",
    "    genotypes,\n",
    "    barcode_handler=handler,\n",
    "    only_singlets=False,\n",
    "    doublet_prior=0.25,\n",
    ")"
   ],
   "metadata": {
    "collapsed": false,
    "pycharm": {
     "name": "#%%\n"
    }
   }
  },
  {
   "cell_type": "code",
   "execution_count": 15,
   "outputs": [],
   "source": [
    "genotypes_improved, probs_with_learning = Demultiplexer.learn_genotypes(\n",
    "    counts,\n",
    "    genotypes=genotypes,\n",
    "    barcode_handler=handler,\n",
    "    doublet_prior=0.25,\n",
    ")"
   ],
   "metadata": {
    "collapsed": false,
    "pycharm": {
     "name": "#%%\n"
    }
   }
  },
  {
   "cell_type": "code",
   "execution_count": 16,
   "outputs": [
    {
     "data": {
      "text/plain": "      no learning    learning  with new SNPs\n101      0.531971    0.146082       0.055303\n1012     0.077515    0.078478       0.042652\n1015     0.066738    0.067703       0.028326\n1016     0.076142    0.078088       0.036936\n1026     0.113209    0.114236       0.042328\n1039     0.026208    0.024245       0.005730\n1043   761.368455  768.281636     769.157366\n1066     0.191489    0.199310       0.149368\n107      0.047139    0.047311       0.011065\n1079   701.507679  737.014612     737.925315\n1085   717.784105  769.894443     771.827264\n11       0.006696    0.006846       0.005965\n1112     0.059770    0.060775       0.042652\n1154   733.346039  756.242490     757.246301\n12       0.035498    0.036874       0.034453\n1244     0.185623    0.192045       0.102848\n1249   639.019214  652.638024     654.709768\n1256     0.027119    0.022353       0.021805\n1286     0.033881    0.034061       0.023369\n13       0.056193    0.057982       0.055306\n1311     0.012702    0.011841       0.010882\n1442     0.135703    0.142953       0.123712\n1453     0.124654    0.121823       0.043170\n1488     0.303225    0.324229       0.060418\n1493   602.092513  622.415711     623.157143\n15       0.316827    0.232455       0.014884\n1511   827.761846  846.112878     846.772136\n1598   648.480241  656.651970     653.238256\n16       0.017102    0.015924       0.007017\n18       0.192192    0.084656       0.023761\n21       0.043116    0.044076       0.042196\n6        0.073344    0.073522       0.002498",
      "text/html": "<div>\n<style scoped>\n    .dataframe tbody tr th:only-of-type {\n        vertical-align: middle;\n    }\n\n    .dataframe tbody tr th {\n        vertical-align: top;\n    }\n\n    .dataframe thead th {\n        text-align: right;\n    }\n</style>\n<table border=\"1\" class=\"dataframe\">\n  <thead>\n    <tr style=\"text-align: right;\">\n      <th></th>\n      <th>no learning</th>\n      <th>learning</th>\n      <th>with new SNPs</th>\n    </tr>\n  </thead>\n  <tbody>\n    <tr>\n      <th>101</th>\n      <td>0.531971</td>\n      <td>0.146082</td>\n      <td>0.055303</td>\n    </tr>\n    <tr>\n      <th>1012</th>\n      <td>0.077515</td>\n      <td>0.078478</td>\n      <td>0.042652</td>\n    </tr>\n    <tr>\n      <th>1015</th>\n      <td>0.066738</td>\n      <td>0.067703</td>\n      <td>0.028326</td>\n    </tr>\n    <tr>\n      <th>1016</th>\n      <td>0.076142</td>\n      <td>0.078088</td>\n      <td>0.036936</td>\n    </tr>\n    <tr>\n      <th>1026</th>\n      <td>0.113209</td>\n      <td>0.114236</td>\n      <td>0.042328</td>\n    </tr>\n    <tr>\n      <th>1039</th>\n      <td>0.026208</td>\n      <td>0.024245</td>\n      <td>0.005730</td>\n    </tr>\n    <tr>\n      <th>1043</th>\n      <td>761.368455</td>\n      <td>768.281636</td>\n      <td>769.157366</td>\n    </tr>\n    <tr>\n      <th>1066</th>\n      <td>0.191489</td>\n      <td>0.199310</td>\n      <td>0.149368</td>\n    </tr>\n    <tr>\n      <th>107</th>\n      <td>0.047139</td>\n      <td>0.047311</td>\n      <td>0.011065</td>\n    </tr>\n    <tr>\n      <th>1079</th>\n      <td>701.507679</td>\n      <td>737.014612</td>\n      <td>737.925315</td>\n    </tr>\n    <tr>\n      <th>1085</th>\n      <td>717.784105</td>\n      <td>769.894443</td>\n      <td>771.827264</td>\n    </tr>\n    <tr>\n      <th>11</th>\n      <td>0.006696</td>\n      <td>0.006846</td>\n      <td>0.005965</td>\n    </tr>\n    <tr>\n      <th>1112</th>\n      <td>0.059770</td>\n      <td>0.060775</td>\n      <td>0.042652</td>\n    </tr>\n    <tr>\n      <th>1154</th>\n      <td>733.346039</td>\n      <td>756.242490</td>\n      <td>757.246301</td>\n    </tr>\n    <tr>\n      <th>12</th>\n      <td>0.035498</td>\n      <td>0.036874</td>\n      <td>0.034453</td>\n    </tr>\n    <tr>\n      <th>1244</th>\n      <td>0.185623</td>\n      <td>0.192045</td>\n      <td>0.102848</td>\n    </tr>\n    <tr>\n      <th>1249</th>\n      <td>639.019214</td>\n      <td>652.638024</td>\n      <td>654.709768</td>\n    </tr>\n    <tr>\n      <th>1256</th>\n      <td>0.027119</td>\n      <td>0.022353</td>\n      <td>0.021805</td>\n    </tr>\n    <tr>\n      <th>1286</th>\n      <td>0.033881</td>\n      <td>0.034061</td>\n      <td>0.023369</td>\n    </tr>\n    <tr>\n      <th>13</th>\n      <td>0.056193</td>\n      <td>0.057982</td>\n      <td>0.055306</td>\n    </tr>\n    <tr>\n      <th>1311</th>\n      <td>0.012702</td>\n      <td>0.011841</td>\n      <td>0.010882</td>\n    </tr>\n    <tr>\n      <th>1442</th>\n      <td>0.135703</td>\n      <td>0.142953</td>\n      <td>0.123712</td>\n    </tr>\n    <tr>\n      <th>1453</th>\n      <td>0.124654</td>\n      <td>0.121823</td>\n      <td>0.043170</td>\n    </tr>\n    <tr>\n      <th>1488</th>\n      <td>0.303225</td>\n      <td>0.324229</td>\n      <td>0.060418</td>\n    </tr>\n    <tr>\n      <th>1493</th>\n      <td>602.092513</td>\n      <td>622.415711</td>\n      <td>623.157143</td>\n    </tr>\n    <tr>\n      <th>15</th>\n      <td>0.316827</td>\n      <td>0.232455</td>\n      <td>0.014884</td>\n    </tr>\n    <tr>\n      <th>1511</th>\n      <td>827.761846</td>\n      <td>846.112878</td>\n      <td>846.772136</td>\n    </tr>\n    <tr>\n      <th>1598</th>\n      <td>648.480241</td>\n      <td>656.651970</td>\n      <td>653.238256</td>\n    </tr>\n    <tr>\n      <th>16</th>\n      <td>0.017102</td>\n      <td>0.015924</td>\n      <td>0.007017</td>\n    </tr>\n    <tr>\n      <th>18</th>\n      <td>0.192192</td>\n      <td>0.084656</td>\n      <td>0.023761</td>\n    </tr>\n    <tr>\n      <th>21</th>\n      <td>0.043116</td>\n      <td>0.044076</td>\n      <td>0.042196</td>\n    </tr>\n    <tr>\n      <th>6</th>\n      <td>0.073344</td>\n      <td>0.073522</td>\n      <td>0.002498</td>\n    </tr>\n  </tbody>\n</table>\n</div>"
     },
     "execution_count": 16,
     "metadata": {},
     "output_type": "execute_result"
    }
   ],
   "source": [
    "pd.DataFrame({\n",
    "    'no learning': probs_without_learning[genotype_names].sum(),\n",
    "    'learning': probs_with_learning[genotype_names].sum(),\n",
    "    'with new SNPs': probs_learning_new_snps[genotype_names].sum(),\n",
    "})"
   ],
   "metadata": {
    "collapsed": false,
    "pycharm": {
     "name": "#%%\n"
    }
   }
  }
 ],
 "metadata": {
  "kernelspec": {
   "display_name": "Python 3",
   "language": "python",
   "name": "python3"
  },
  "language_info": {
   "codemirror_mode": {
    "name": "ipython",
    "version": 2
   },
   "file_extension": ".py",
   "mimetype": "text/x-python",
   "name": "python",
   "nbconvert_exporter": "python",
   "pygments_lexer": "ipython2",
   "version": "2.7.6"
  }
 },
 "nbformat": 4,
 "nbformat_minor": 0
}